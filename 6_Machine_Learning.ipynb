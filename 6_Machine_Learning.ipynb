{
 "cells": [
  {
   "cell_type": "markdown",
   "id": "068824d9",
   "metadata": {},
   "source": [
    "# Machine Learning"
   ]
  },
  {
   "cell_type": "code",
   "execution_count": null,
   "id": "4ef59e44",
   "metadata": {},
   "outputs": [],
   "source": [
    "from ml_tools.ensemble_learning import run_ensemble_pipeline, RegressionTreeModels\n",
    "from ml_tools import custom_logger\n",
    "from ml_tools.utilities import train_dataset_orchestrator\n",
    "from paths import PM\n",
    "from helpers.constants import FINAL_TARGETS"
   ]
  },
  {
   "cell_type": "markdown",
   "id": "e6071a1e",
   "metadata": {},
   "source": [
    "## 1 Make Training Datasets"
   ]
  },
  {
   "cell_type": "code",
   "execution_count": null,
   "id": "60e712d8",
   "metadata": {},
   "outputs": [],
   "source": [
    "dataset_dirs = [PM[\"feature engineering clip\"], PM[\"mice datasets\"], PM[\"vif datasets\"]]\n",
    "\n",
    "train_dataset_orchestrator(list_of_dirs=dataset_dirs, # type: ignore\n",
    "                           target_columns=FINAL_TARGETS,\n",
    "                           save_dir=PM[\"model datasets\"])"
   ]
  },
  {
   "cell_type": "markdown",
   "id": "8f56a455",
   "metadata": {},
   "source": [
    "## 2 Set Hyperparameters"
   ]
  },
  {
   "cell_type": "code",
   "execution_count": null,
   "id": "caa00cd7",
   "metadata": {},
   "outputs": [],
   "source": [
    "hyperparams = {\n",
    "    'learning_rate': 0.005,\n",
    "    'L1_regularization': 1,\n",
    "    'L2_regularization': 1,\n",
    "    'n_estimators': 1000,\n",
    "    'max_depth': 8,\n",
    "    'subsample': 0.8,\n",
    "    'colsample_bytree': 0.8,\n",
    "    'min_child_weight': 3,\n",
    "    'gamma': 1,\n",
    "    'num_leaves': 31,\n",
    "    'min_data_in_leaf': 40\n",
    "}\n",
    "\n",
    "model_factory = RegressionTreeModels(**hyperparams)"
   ]
  },
  {
   "cell_type": "markdown",
   "id": "5a0e6ed1",
   "metadata": {},
   "source": [
    "## 3 Run Training"
   ]
  },
  {
   "cell_type": "code",
   "execution_count": null,
   "id": "21f6e138",
   "metadata": {},
   "outputs": [],
   "source": [
    "run_ensemble_pipeline(datasets_dir=PM[\"model datasets\"],\n",
    "                      save_dir=PM[\"model metrics\"],\n",
    "                      target_columns=FINAL_TARGETS,\n",
    "                      model_object=model_factory,\n",
    "                      save_model=True)"
   ]
  },
  {
   "cell_type": "markdown",
   "id": "c5968025",
   "metadata": {},
   "source": [
    "## 4 Log Results"
   ]
  },
  {
   "cell_type": "code",
   "execution_count": null,
   "id": "f20e5a86",
   "metadata": {},
   "outputs": [],
   "source": [
    "train_results = {\n",
    "    \"best model\": \"\",\n",
    "    \"\": 0,\n",
    "    \"\": 0,\n",
    "    \"\": 0,\n",
    "}\n",
    "\n",
    "custom_logger(data=train_results | hyperparams,\n",
    "              save_directory=PM[\"logs\"],\n",
    "              log_name=\"training result\")"
   ]
  }
 ],
 "metadata": {
  "kernelspec": {
   "display_name": "dragon-ml",
   "language": "python",
   "name": "python3"
  },
  "language_info": {
   "name": "python",
   "version": "3.12.11"
  }
 },
 "nbformat": 4,
 "nbformat_minor": 5
}
