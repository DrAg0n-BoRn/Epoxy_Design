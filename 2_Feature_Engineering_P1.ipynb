{
 "cells": [
  {
   "cell_type": "markdown",
   "id": "9a2bbecf",
   "metadata": {},
   "source": [
    "# Feature Engineering"
   ]
  },
  {
   "cell_type": "code",
   "execution_count": 26,
   "id": "375b8f63",
   "metadata": {},
   "outputs": [
    {
     "name": "stdout",
     "output_type": "stream",
     "text": [
      "Available functions and objects:\n",
      "1 - summarize_dataframe\n",
      "2 - drop_constant_columns\n",
      "3 - drop_rows_with_missing_data\n",
      "4 - show_null_columns\n",
      "5 - drop_columns_with_missing_data\n",
      "6 - drop_macro\n",
      "7 - clean_column_names\n",
      "8 - split_features_targets\n",
      "9 - split_continuous_binary\n",
      "10 - plot_correlation_heatmap\n",
      "11 - plot_value_distributions\n",
      "12 - clip_outliers_single\n",
      "13 - clip_outliers_multi\n",
      "14 - match_and_filter_columns_by_regex\n",
      "15 - standardize_percentages\n"
     ]
    }
   ],
   "source": [
    "from ml_tools.data_exploration import info\n",
    "info()"
   ]
  },
  {
   "cell_type": "code",
   "execution_count": 27,
   "id": "ae0faa17",
   "metadata": {},
   "outputs": [],
   "source": [
    "from ml_tools.data_exploration import (summarize_dataframe,\n",
    "                                       drop_macro,\n",
    "                                       clean_column_names,\n",
    "                                       split_features_targets,\n",
    "                                       split_continuous_binary,\n",
    "                                       plot_correlation_heatmap,\n",
    "                                       plot_value_distributions,\n",
    "                                       standardize_percentages,\n",
    "                                       match_and_filter_columns_by_regex)\n",
    "from ml_tools.utilities import load_dataframe, serialize_object, save_dataframe, merge_dataframes\n",
    "from paths import PM\n",
    "from helpers.constants import TARGETS"
   ]
  },
  {
   "cell_type": "markdown",
   "id": "a80a7e21",
   "metadata": {},
   "source": [
    "## 1 Load data"
   ]
  },
  {
   "cell_type": "code",
   "execution_count": 28,
   "id": "2eb433ea",
   "metadata": {},
   "outputs": [
    {
     "name": "stderr",
     "output_type": "stream",
     "text": [
      "\n",
      "🐉 2025-10-07 14:32 [✅ \u001b[32mINFO\u001b[0m] - 💾 Loaded PANDAS dataset: 'processed_data' with shape: (3397, 639)\u001b[0m\n"
     ]
    }
   ],
   "source": [
    "df_start, _ = load_dataframe(df_path=PM[\"processed data\"], kind=\"pandas\")"
   ]
  },
  {
   "cell_type": "markdown",
   "id": "616bda03",
   "metadata": {},
   "source": [
    "## 2 Clean Data"
   ]
  },
  {
   "cell_type": "code",
   "execution_count": 29,
   "id": "8f727bff",
   "metadata": {},
   "outputs": [
    {
     "name": "stderr",
     "output_type": "stream",
     "text": [
      "\n",
      "🐉 2025-10-07 14:32 [✅ \u001b[32mINFO\u001b[0m] - Saved dataset: 'Missing_Data_start.csv' with shape: (14, 3)\u001b[0m\n",
      "\n",
      "🐉 2025-10-07 14:32 [✅ \u001b[32mINFO\u001b[0m] - 🧹 Dropped 0 constant columns.\u001b[0m\n",
      "\n",
      "🐉 2025-10-07 14:32 [✅ \u001b[32mINFO\u001b[0m] - 🧹 Dropping 76 rows with all target columns missing.\u001b[0m\n",
      "\n",
      "🐉 2025-10-07 14:32 [✅ \u001b[32mINFO\u001b[0m] - No rows exceed the 75% missing feature data threshold.\u001b[0m\n",
      "\n",
      "🐉 2025-10-07 14:32 [✅ \u001b[32mINFO\u001b[0m] - 🧹 Dropping columns with more than 75% missing data:\u001b[0m\n",
      "\n",
      "🐉 2025-10-07 14:32 [✅ \u001b[32mINFO\u001b[0m] - 🧹 Dropped 8 constant columns.\u001b[0m\n",
      "\n",
      "🐉 2025-10-07 14:32 [✅ \u001b[32mINFO\u001b[0m] - 🧹 Dropping 39 rows with all target columns missing.\u001b[0m\n",
      "\n",
      "🐉 2025-10-07 14:32 [✅ \u001b[32mINFO\u001b[0m] - No rows exceed the 75% missing feature data threshold.\u001b[0m\n",
      "\n",
      "🐉 2025-10-07 14:32 [✅ \u001b[32mINFO\u001b[0m] - No columns have more than 75% missing data.\u001b[0m\n",
      "\n",
      "🐉 2025-10-07 14:32 [✅ \u001b[32mINFO\u001b[0m] - 🧹 Dropped 3 constant columns.\u001b[0m\n"
     ]
    },
    {
     "name": "stdout",
     "output_type": "stream",
     "text": [
      "['Epoxy/Epoxy Ratio', 'Accelerator Content(%)', 'Fracture Toughness(MPa m0.5)', 'Shear Strength(MPa)']\n",
      "    Epoxy_eepn\n",
      "    Filler_mdi-gp\n",
      "    Epoxy_eepn-dgeba\n",
      "    Accelerator_etppb\n",
      "    Epoxy_null\n",
      "    Curing_dach\n",
      "    Filler_gp\n",
      "    Curing_mdea\n",
      "    Filler_ngp\n",
      "    Filler_eg\n",
      "    Filler_mma-edma\n"
     ]
    },
    {
     "name": "stderr",
     "output_type": "stream",
     "text": [
      "\n",
      "🐉 2025-10-07 14:32 [✅ \u001b[32mINFO\u001b[0m] - No rows found where all targets are missing.\u001b[0m\n",
      "\n",
      "🐉 2025-10-07 14:32 [✅ \u001b[32mINFO\u001b[0m] - No rows exceed the 75% missing feature data threshold.\u001b[0m\n",
      "\n",
      "🐉 2025-10-07 14:32 [✅ \u001b[32mINFO\u001b[0m] - No columns have more than 75% missing data.\u001b[0m\n",
      "\n",
      "🐉 2025-10-07 14:32 [✅ \u001b[32mINFO\u001b[0m] - 🧹 Dropped 0 constant columns.\u001b[0m\n",
      "\n",
      "🐉 2025-10-07 14:32 [✅ \u001b[32mINFO\u001b[0m] - No rows found where all targets are missing.\u001b[0m\n",
      "\n",
      "🐉 2025-10-07 14:32 [✅ \u001b[32mINFO\u001b[0m] - No rows exceed the 75% missing feature data threshold.\u001b[0m\n",
      "\n",
      "🐉 2025-10-07 14:32 [✅ \u001b[32mINFO\u001b[0m] - No columns have more than 75% missing data.\u001b[0m\n",
      "\n",
      "🐉 2025-10-07 14:32 [✅ \u001b[32mINFO\u001b[0m] - Saved dataset: 'Missing_Data_final.csv' with shape: (10, 3)\u001b[0m\n"
     ]
    }
   ],
   "source": [
    "df_clean_1 = drop_macro(df=df_start, # type: ignore\n",
    "           log_directory=PM[\"feature engineering metrics\"],\n",
    "           targets=TARGETS,\n",
    "           skip_targets=False,\n",
    "           threshold=0.75)"
   ]
  },
  {
   "cell_type": "code",
   "execution_count": 31,
   "id": "a6aa51c0",
   "metadata": {},
   "outputs": [
    {
     "name": "stderr",
     "output_type": "stream",
     "text": [
      "\n",
      "🐉 2025-10-07 14:32 [✅ \u001b[32mINFO\u001b[0m] - 4 columns match the regex pattern 'none|null'.\u001b[0m\n"
     ]
    },
    {
     "data": {
      "text/plain": [
       "['Curing_null', 'Filler_null', 'Filler_oxazolidinone', 'Accelerator_null']"
      ]
     },
     "execution_count": 31,
     "metadata": {},
     "output_type": "execute_result"
    }
   ],
   "source": [
    "_df, null_columns = match_and_filter_columns_by_regex(df=df_clean_1, pattern=r'none|null')\n",
    "null_columns"
   ]
  },
  {
   "cell_type": "code",
   "execution_count": 32,
   "id": "aebc238c",
   "metadata": {},
   "outputs": [],
   "source": [
    "df_clean_2 = df_clean_1.drop(columns=['Curing_null', 'Filler_null', 'Accelerator_null'])"
   ]
  },
  {
   "cell_type": "code",
   "execution_count": 33,
   "id": "10068316",
   "metadata": {},
   "outputs": [
    {
     "name": "stderr",
     "output_type": "stream",
     "text": [
      "\n",
      "🐉 2025-10-07 14:35 [✅ \u001b[32mINFO\u001b[0m] - Cleaned 40 column name(s) containing special characters:\u001b[0m\n"
     ]
    },
    {
     "name": "stdout",
     "output_type": "stream",
     "text": [
      "    'Curing_1,3-bac' -> 'Curing_1 3-bac'\n",
      "    'Curing_4,4-diepoxydiphenylimine,2e4mi' -> 'Curing_4 4-diepoxydiphenylimine 2e4mi'\n",
      "    'Curing_4,4-diepoxydiphenylimine,dds' -> 'Curing_4 4-diepoxydiphenylimine dds'\n",
      "    'Curing_9035,ga' -> 'Curing_9035 ga'\n",
      "    'Curing_afd,ddm' -> 'Curing_afd ddm'\n",
      "    'Curing_apa,m-xda' -> 'Curing_apa m-xda'\n",
      "    'Curing_api,ipda' -> 'Curing_api ipda'\n",
      "    'Curing_bapp,haa' -> 'Curing_bapp haa'\n",
      "    'Curing_bvn,vpd' -> 'Curing_bvn vpd'\n",
      "    'Curing_ceppa-ao,bpa-ao,c-ao,deta' -> 'Curing_ceppa-ao bpa-ao c-ao deta'\n",
      "    'Curing_dat,haa' -> 'Curing_dat haa'\n",
      "    'Curing_ddm,detda' -> 'Curing_ddm detda'\n",
      "    'Curing_ddm,haa' -> 'Curing_ddm haa'\n",
      "    'Curing_deapm,deta' -> 'Curing_deapm deta'\n",
      "    'Curing_deapm,deta,app' -> 'Curing_deapm deta app'\n",
      "    'Curing_deta,mh' -> 'Curing_deta mh'\n",
      "    'Curing_deta,teta' -> 'Curing_deta teta'\n",
      "    'Curing_detda,ipda' -> 'Curing_detda ipda'\n",
      "    'Curing_dicy,dopo-dicy' -> 'Curing_dicy dopo-dicy'\n",
      "    'Curing_emi-2,4' -> 'Curing_emi-2 4'\n",
      "    'Curing_hfbapp,haa' -> 'Curing_hfbapp haa'\n",
      "    'Curing_imidazole,ipda' -> 'Curing_imidazole ipda'\n",
      "    'Curing_m-xda,dpd' -> 'Curing_m-xda dpd'\n",
      "    'Curing_methpa,imidazole' -> 'Curing_methpa imidazole'\n",
      "    'Curing_mna,btda' -> 'Curing_mna btda'\n",
      "    'Curing_msa,mpa' -> 'Curing_msa mpa'\n",
      "    'Curing_msa,mpa,methyl-ester' -> 'Curing_msa mpa methyl-ester'\n",
      "    'Curing_mthpa,imidazole' -> 'Curing_mthpa imidazole'\n",
      "    'Curing_nbn,bopa' -> 'Curing_nbn bopa'\n",
      "    'Curing_nma,teoa' -> 'Curing_nma teoa'\n",
      "    'Curing_opd,haa' -> 'Curing_opd haa'\n",
      "    'Curing_pacm,polyetheramine' -> 'Curing_pacm polyetheramine'\n",
      "    'Curing_polyamide,polyetheramine' -> 'Curing_polyamide polyetheramine'\n",
      "    'Curing_polyetheramine,oda' -> 'Curing_polyetheramine oda'\n",
      "    'Curing_ppapm,deta' -> 'Curing_ppapm deta'\n",
      "    'Curing_ppapm,deta,app' -> 'Curing_ppapm deta app'\n",
      "    'Curing_tmp,haa' -> 'Curing_tmp haa'\n",
      "    'Curing_trpam-mel,deta' -> 'Curing_trpam-mel deta'\n",
      "    'Curing_urc,mxda,2e4mi' -> 'Curing_urc mxda 2e4mi'\n",
      "    'Curing_wpu,cpu' -> 'Curing_wpu cpu'\n"
     ]
    }
   ],
   "source": [
    "df_clean = clean_column_names(df_clean_2, replacement_char=\" \")"
   ]
  },
  {
   "cell_type": "code",
   "execution_count": 34,
   "id": "c5b70627",
   "metadata": {},
   "outputs": [
    {
     "name": "stdout",
     "output_type": "stream",
     "text": [
      "DataFrame Shape: (3282, 621)\n"
     ]
    },
    {
     "data": {
      "text/html": [
       "<div>\n",
       "<style scoped>\n",
       "    .dataframe tbody tr th:only-of-type {\n",
       "        vertical-align: middle;\n",
       "    }\n",
       "\n",
       "    .dataframe tbody tr th {\n",
       "        vertical-align: top;\n",
       "    }\n",
       "\n",
       "    .dataframe thead th {\n",
       "        text-align: right;\n",
       "    }\n",
       "</style>\n",
       "<table border=\"1\" class=\"dataframe\">\n",
       "  <thead>\n",
       "    <tr style=\"text-align: right;\">\n",
       "      <th></th>\n",
       "      <th>Data Type</th>\n",
       "      <th>Non-Null Count</th>\n",
       "      <th>Unique Values</th>\n",
       "      <th>Missing %</th>\n",
       "      <th>mean</th>\n",
       "      <th>std</th>\n",
       "      <th>min</th>\n",
       "      <th>25%</th>\n",
       "      <th>50%</th>\n",
       "      <th>75%</th>\n",
       "      <th>max</th>\n",
       "    </tr>\n",
       "  </thead>\n",
       "  <tbody>\n",
       "    <tr>\n",
       "      <th>Epoxy_a80</th>\n",
       "      <td>int64</td>\n",
       "      <td>3282</td>\n",
       "      <td>2</td>\n",
       "      <td>0.00</td>\n",
       "      <td>0.00</td>\n",
       "      <td>0.02</td>\n",
       "      <td>0.00</td>\n",
       "      <td>0.00</td>\n",
       "      <td>0.0</td>\n",
       "      <td>0.00</td>\n",
       "      <td>1.00</td>\n",
       "    </tr>\n",
       "    <tr>\n",
       "      <th>Epoxy_acrylate</th>\n",
       "      <td>int64</td>\n",
       "      <td>3282</td>\n",
       "      <td>2</td>\n",
       "      <td>0.00</td>\n",
       "      <td>0.01</td>\n",
       "      <td>0.10</td>\n",
       "      <td>0.00</td>\n",
       "      <td>0.00</td>\n",
       "      <td>0.0</td>\n",
       "      <td>0.00</td>\n",
       "      <td>1.00</td>\n",
       "    </tr>\n",
       "    <tr>\n",
       "      <th>Epoxy_ad301</th>\n",
       "      <td>int64</td>\n",
       "      <td>3282</td>\n",
       "      <td>2</td>\n",
       "      <td>0.00</td>\n",
       "      <td>0.00</td>\n",
       "      <td>0.02</td>\n",
       "      <td>0.00</td>\n",
       "      <td>0.00</td>\n",
       "      <td>0.0</td>\n",
       "      <td>0.00</td>\n",
       "      <td>1.00</td>\n",
       "    </tr>\n",
       "    <tr>\n",
       "      <th>Epoxy_aep1</th>\n",
       "      <td>int64</td>\n",
       "      <td>3282</td>\n",
       "      <td>2</td>\n",
       "      <td>0.00</td>\n",
       "      <td>0.00</td>\n",
       "      <td>0.02</td>\n",
       "      <td>0.00</td>\n",
       "      <td>0.00</td>\n",
       "      <td>0.0</td>\n",
       "      <td>0.00</td>\n",
       "      <td>1.00</td>\n",
       "    </tr>\n",
       "    <tr>\n",
       "      <th>Epoxy_aep2</th>\n",
       "      <td>int64</td>\n",
       "      <td>3282</td>\n",
       "      <td>2</td>\n",
       "      <td>0.00</td>\n",
       "      <td>0.00</td>\n",
       "      <td>0.02</td>\n",
       "      <td>0.00</td>\n",
       "      <td>0.00</td>\n",
       "      <td>0.0</td>\n",
       "      <td>0.00</td>\n",
       "      <td>1.00</td>\n",
       "    </tr>\n",
       "    <tr>\n",
       "      <th>...</th>\n",
       "      <td>...</td>\n",
       "      <td>...</td>\n",
       "      <td>...</td>\n",
       "      <td>...</td>\n",
       "      <td>...</td>\n",
       "      <td>...</td>\n",
       "      <td>...</td>\n",
       "      <td>...</td>\n",
       "      <td>...</td>\n",
       "      <td>...</td>\n",
       "      <td>...</td>\n",
       "    </tr>\n",
       "    <tr>\n",
       "      <th>Flexural Modulus(MPa)</th>\n",
       "      <td>float64</td>\n",
       "      <td>877</td>\n",
       "      <td>679</td>\n",
       "      <td>73.28</td>\n",
       "      <td>12058.86</td>\n",
       "      <td>28412.67</td>\n",
       "      <td>0.62</td>\n",
       "      <td>2483.06</td>\n",
       "      <td>3000.0</td>\n",
       "      <td>3990.00</td>\n",
       "      <td>190990.00</td>\n",
       "    </tr>\n",
       "    <tr>\n",
       "      <th>Impact Strength(kJ/m2)</th>\n",
       "      <td>float64</td>\n",
       "      <td>1214</td>\n",
       "      <td>806</td>\n",
       "      <td>63.01</td>\n",
       "      <td>297.11</td>\n",
       "      <td>2402.38</td>\n",
       "      <td>0.00</td>\n",
       "      <td>9.25</td>\n",
       "      <td>17.0</td>\n",
       "      <td>33.50</td>\n",
       "      <td>33572.23</td>\n",
       "    </tr>\n",
       "    <tr>\n",
       "      <th>Young Modulus(MPa)</th>\n",
       "      <td>float64</td>\n",
       "      <td>1044</td>\n",
       "      <td>802</td>\n",
       "      <td>68.19</td>\n",
       "      <td>2941.05</td>\n",
       "      <td>7998.55</td>\n",
       "      <td>0.08</td>\n",
       "      <td>1011.25</td>\n",
       "      <td>2080.0</td>\n",
       "      <td>3010.00</td>\n",
       "      <td>217300.00</td>\n",
       "    </tr>\n",
       "    <tr>\n",
       "      <th>Tensile Strength(MPa)</th>\n",
       "      <td>float64</td>\n",
       "      <td>2602</td>\n",
       "      <td>1647</td>\n",
       "      <td>20.72</td>\n",
       "      <td>116.02</td>\n",
       "      <td>330.50</td>\n",
       "      <td>0.13</td>\n",
       "      <td>42.30</td>\n",
       "      <td>60.1</td>\n",
       "      <td>76.68</td>\n",
       "      <td>6000.00</td>\n",
       "    </tr>\n",
       "    <tr>\n",
       "      <th>Elongation at Break(%)</th>\n",
       "      <td>float64</td>\n",
       "      <td>1246</td>\n",
       "      <td>647</td>\n",
       "      <td>62.04</td>\n",
       "      <td>14.78</td>\n",
       "      <td>29.62</td>\n",
       "      <td>0.05</td>\n",
       "      <td>4.12</td>\n",
       "      <td>6.3</td>\n",
       "      <td>10.50</td>\n",
       "      <td>375.00</td>\n",
       "    </tr>\n",
       "  </tbody>\n",
       "</table>\n",
       "<p>621 rows × 11 columns</p>\n",
       "</div>"
      ],
      "text/plain": [
       "                       Data Type  Non-Null Count  Unique Values  Missing %  \\\n",
       "Epoxy_a80                  int64            3282              2       0.00   \n",
       "Epoxy_acrylate             int64            3282              2       0.00   \n",
       "Epoxy_ad301                int64            3282              2       0.00   \n",
       "Epoxy_aep1                 int64            3282              2       0.00   \n",
       "Epoxy_aep2                 int64            3282              2       0.00   \n",
       "...                          ...             ...            ...        ...   \n",
       "Flexural Modulus(MPa)    float64             877            679      73.28   \n",
       "Impact Strength(kJ/m2)   float64            1214            806      63.01   \n",
       "Young Modulus(MPa)       float64            1044            802      68.19   \n",
       "Tensile Strength(MPa)    float64            2602           1647      20.72   \n",
       "Elongation at Break(%)   float64            1246            647      62.04   \n",
       "\n",
       "                            mean       std   min      25%     50%      75%  \\\n",
       "Epoxy_a80                   0.00      0.02  0.00     0.00     0.0     0.00   \n",
       "Epoxy_acrylate              0.01      0.10  0.00     0.00     0.0     0.00   \n",
       "Epoxy_ad301                 0.00      0.02  0.00     0.00     0.0     0.00   \n",
       "Epoxy_aep1                  0.00      0.02  0.00     0.00     0.0     0.00   \n",
       "Epoxy_aep2                  0.00      0.02  0.00     0.00     0.0     0.00   \n",
       "...                          ...       ...   ...      ...     ...      ...   \n",
       "Flexural Modulus(MPa)   12058.86  28412.67  0.62  2483.06  3000.0  3990.00   \n",
       "Impact Strength(kJ/m2)    297.11   2402.38  0.00     9.25    17.0    33.50   \n",
       "Young Modulus(MPa)       2941.05   7998.55  0.08  1011.25  2080.0  3010.00   \n",
       "Tensile Strength(MPa)     116.02    330.50  0.13    42.30    60.1    76.68   \n",
       "Elongation at Break(%)     14.78     29.62  0.05     4.12     6.3    10.50   \n",
       "\n",
       "                              max  \n",
       "Epoxy_a80                    1.00  \n",
       "Epoxy_acrylate               1.00  \n",
       "Epoxy_ad301                  1.00  \n",
       "Epoxy_aep1                   1.00  \n",
       "Epoxy_aep2                   1.00  \n",
       "...                           ...  \n",
       "Flexural Modulus(MPa)   190990.00  \n",
       "Impact Strength(kJ/m2)   33572.23  \n",
       "Young Modulus(MPa)      217300.00  \n",
       "Tensile Strength(MPa)     6000.00  \n",
       "Elongation at Break(%)     375.00  \n",
       "\n",
       "[621 rows x 11 columns]"
      ]
     },
     "execution_count": 34,
     "metadata": {},
     "output_type": "execute_result"
    }
   ],
   "source": [
    "summarize_dataframe(df_clean)"
   ]
  },
  {
   "cell_type": "markdown",
   "id": "277bc44f",
   "metadata": {},
   "source": [
    "## 3 Fix percentages"
   ]
  },
  {
   "cell_type": "code",
   "execution_count": 35,
   "id": "da3f58c2",
   "metadata": {},
   "outputs": [
    {
     "name": "stderr",
     "output_type": "stream",
     "text": [
      "\n",
      "🐉 2025-10-07 14:36 [✅ \u001b[32mINFO\u001b[0m] - 3 columns match the regex pattern '%'.\u001b[0m\n"
     ]
    }
   ],
   "source": [
    "_df_percent, percent_columns= match_and_filter_columns_by_regex(df=df_clean, pattern=r\"%\")\n",
    "\n",
    "df_fixed = standardize_percentages(df=df_clean, columns=percent_columns)"
   ]
  },
  {
   "cell_type": "markdown",
   "id": "28d5889e",
   "metadata": {},
   "source": [
    "## 4 Split data"
   ]
  },
  {
   "cell_type": "markdown",
   "id": "78980d1b",
   "metadata": {},
   "source": [
    "### 4.1 Features / Targets"
   ]
  },
  {
   "cell_type": "code",
   "execution_count": 36,
   "id": "381a93a4",
   "metadata": {},
   "outputs": [
    {
     "name": "stdout",
     "output_type": "stream",
     "text": [
      "Original shape: (3282, 621)\n",
      "Features shape: (3282, 615)\n",
      "Targets shape: (3282, 6)\n"
     ]
    }
   ],
   "source": [
    "df_features, df_targets = split_features_targets(df=df_fixed, \n",
    "                                                 targets=TARGETS)"
   ]
  },
  {
   "cell_type": "markdown",
   "id": "eb09ecfc",
   "metadata": {},
   "source": [
    "### 4.2 Continuous / Binary"
   ]
  },
  {
   "cell_type": "code",
   "execution_count": 37,
   "id": "ef71906a",
   "metadata": {},
   "outputs": [
    {
     "name": "stdout",
     "output_type": "stream",
     "text": [
      "Continuous columns shape: (3282, 4)\n",
      "Binary columns shape: (3282, 611)\n"
     ]
    }
   ],
   "source": [
    "df_continuous, df_binary = split_continuous_binary(df_features)"
   ]
  },
  {
   "cell_type": "markdown",
   "id": "67f4211a",
   "metadata": {},
   "source": [
    "### 4.3 Summarize datasets"
   ]
  },
  {
   "cell_type": "code",
   "execution_count": 38,
   "id": "dffd84a4",
   "metadata": {},
   "outputs": [
    {
     "name": "stdout",
     "output_type": "stream",
     "text": [
      "DataFrame Shape: (3282, 4)\n"
     ]
    },
    {
     "data": {
      "text/html": [
       "<div>\n",
       "<style scoped>\n",
       "    .dataframe tbody tr th:only-of-type {\n",
       "        vertical-align: middle;\n",
       "    }\n",
       "\n",
       "    .dataframe tbody tr th {\n",
       "        vertical-align: top;\n",
       "    }\n",
       "\n",
       "    .dataframe thead th {\n",
       "        text-align: right;\n",
       "    }\n",
       "</style>\n",
       "<table border=\"1\" class=\"dataframe\">\n",
       "  <thead>\n",
       "    <tr style=\"text-align: right;\">\n",
       "      <th></th>\n",
       "      <th>Data Type</th>\n",
       "      <th>Non-Null Count</th>\n",
       "      <th>Unique Values</th>\n",
       "      <th>Missing %</th>\n",
       "      <th>mean</th>\n",
       "      <th>std</th>\n",
       "      <th>min</th>\n",
       "      <th>25%</th>\n",
       "      <th>50%</th>\n",
       "      <th>75%</th>\n",
       "      <th>max</th>\n",
       "    </tr>\n",
       "  </thead>\n",
       "  <tbody>\n",
       "    <tr>\n",
       "      <th>Epoxy/Curing Ratio</th>\n",
       "      <td>float64</td>\n",
       "      <td>2947</td>\n",
       "      <td>393</td>\n",
       "      <td>10.21</td>\n",
       "      <td>6.69</td>\n",
       "      <td>15.43</td>\n",
       "      <td>0.00</td>\n",
       "      <td>1.67</td>\n",
       "      <td>3.45</td>\n",
       "      <td>4.76</td>\n",
       "      <td>200.00</td>\n",
       "    </tr>\n",
       "    <tr>\n",
       "      <th>Carbon Fiber(%)</th>\n",
       "      <td>float64</td>\n",
       "      <td>920</td>\n",
       "      <td>33</td>\n",
       "      <td>71.97</td>\n",
       "      <td>12.39</td>\n",
       "      <td>24.00</td>\n",
       "      <td>0.00</td>\n",
       "      <td>0.00</td>\n",
       "      <td>0.00</td>\n",
       "      <td>0.00</td>\n",
       "      <td>100.00</td>\n",
       "    </tr>\n",
       "    <tr>\n",
       "      <th>Filler Proportion(%)</th>\n",
       "      <td>float64</td>\n",
       "      <td>2594</td>\n",
       "      <td>173</td>\n",
       "      <td>20.96</td>\n",
       "      <td>22.32</td>\n",
       "      <td>61.53</td>\n",
       "      <td>0.00</td>\n",
       "      <td>4.00</td>\n",
       "      <td>10.00</td>\n",
       "      <td>25.00</td>\n",
       "      <td>2025.00</td>\n",
       "    </tr>\n",
       "    <tr>\n",
       "      <th>Temperature(K)</th>\n",
       "      <td>float64</td>\n",
       "      <td>2027</td>\n",
       "      <td>56</td>\n",
       "      <td>38.24</td>\n",
       "      <td>368.11</td>\n",
       "      <td>35.12</td>\n",
       "      <td>298.15</td>\n",
       "      <td>353.15</td>\n",
       "      <td>363.15</td>\n",
       "      <td>393.15</td>\n",
       "      <td>473.15</td>\n",
       "    </tr>\n",
       "  </tbody>\n",
       "</table>\n",
       "</div>"
      ],
      "text/plain": [
       "                     Data Type  Non-Null Count  Unique Values  Missing %  \\\n",
       "Epoxy/Curing Ratio     float64            2947            393      10.21   \n",
       "Carbon Fiber(%)        float64             920             33      71.97   \n",
       "Filler Proportion(%)   float64            2594            173      20.96   \n",
       "Temperature(K)         float64            2027             56      38.24   \n",
       "\n",
       "                        mean    std     min     25%     50%     75%      max  \n",
       "Epoxy/Curing Ratio      6.69  15.43    0.00    1.67    3.45    4.76   200.00  \n",
       "Carbon Fiber(%)        12.39  24.00    0.00    0.00    0.00    0.00   100.00  \n",
       "Filler Proportion(%)   22.32  61.53    0.00    4.00   10.00   25.00  2025.00  \n",
       "Temperature(K)        368.11  35.12  298.15  353.15  363.15  393.15   473.15  "
      ]
     },
     "execution_count": 38,
     "metadata": {},
     "output_type": "execute_result"
    }
   ],
   "source": [
    "summarize_dataframe(df_continuous)"
   ]
  },
  {
   "cell_type": "code",
   "execution_count": 39,
   "id": "995d58a3",
   "metadata": {},
   "outputs": [
    {
     "name": "stdout",
     "output_type": "stream",
     "text": [
      "DataFrame Shape: (3282, 611)\n"
     ]
    },
    {
     "data": {
      "text/html": [
       "<div>\n",
       "<style scoped>\n",
       "    .dataframe tbody tr th:only-of-type {\n",
       "        vertical-align: middle;\n",
       "    }\n",
       "\n",
       "    .dataframe tbody tr th {\n",
       "        vertical-align: top;\n",
       "    }\n",
       "\n",
       "    .dataframe thead th {\n",
       "        text-align: right;\n",
       "    }\n",
       "</style>\n",
       "<table border=\"1\" class=\"dataframe\">\n",
       "  <thead>\n",
       "    <tr style=\"text-align: right;\">\n",
       "      <th></th>\n",
       "      <th>Data Type</th>\n",
       "      <th>Non-Null Count</th>\n",
       "      <th>Unique Values</th>\n",
       "      <th>Missing %</th>\n",
       "      <th>mean</th>\n",
       "      <th>std</th>\n",
       "      <th>min</th>\n",
       "      <th>25%</th>\n",
       "      <th>50%</th>\n",
       "      <th>75%</th>\n",
       "      <th>max</th>\n",
       "    </tr>\n",
       "  </thead>\n",
       "  <tbody>\n",
       "    <tr>\n",
       "      <th>Accelerator_1-mi</th>\n",
       "      <td>int64</td>\n",
       "      <td>3282</td>\n",
       "      <td>2</td>\n",
       "      <td>0.0</td>\n",
       "      <td>0.01</td>\n",
       "      <td>0.07</td>\n",
       "      <td>0.0</td>\n",
       "      <td>0.0</td>\n",
       "      <td>0.0</td>\n",
       "      <td>0.0</td>\n",
       "      <td>1.0</td>\n",
       "    </tr>\n",
       "    <tr>\n",
       "      <th>Accelerator_2-mi</th>\n",
       "      <td>int64</td>\n",
       "      <td>3282</td>\n",
       "      <td>2</td>\n",
       "      <td>0.0</td>\n",
       "      <td>0.01</td>\n",
       "      <td>0.11</td>\n",
       "      <td>0.0</td>\n",
       "      <td>0.0</td>\n",
       "      <td>0.0</td>\n",
       "      <td>0.0</td>\n",
       "      <td>1.0</td>\n",
       "    </tr>\n",
       "    <tr>\n",
       "      <th>Accelerator_2e4mi</th>\n",
       "      <td>int64</td>\n",
       "      <td>3282</td>\n",
       "      <td>2</td>\n",
       "      <td>0.0</td>\n",
       "      <td>0.01</td>\n",
       "      <td>0.12</td>\n",
       "      <td>0.0</td>\n",
       "      <td>0.0</td>\n",
       "      <td>0.0</td>\n",
       "      <td>0.0</td>\n",
       "      <td>1.0</td>\n",
       "    </tr>\n",
       "    <tr>\n",
       "      <th>Accelerator_anhydrous zinc acetate + zinc acetylacetonate</th>\n",
       "      <td>int64</td>\n",
       "      <td>3282</td>\n",
       "      <td>2</td>\n",
       "      <td>0.0</td>\n",
       "      <td>0.00</td>\n",
       "      <td>0.06</td>\n",
       "      <td>0.0</td>\n",
       "      <td>0.0</td>\n",
       "      <td>0.0</td>\n",
       "      <td>0.0</td>\n",
       "      <td>1.0</td>\n",
       "    </tr>\n",
       "    <tr>\n",
       "      <th>Accelerator_basf-catalyst</th>\n",
       "      <td>int64</td>\n",
       "      <td>3282</td>\n",
       "      <td>2</td>\n",
       "      <td>0.0</td>\n",
       "      <td>0.00</td>\n",
       "      <td>0.02</td>\n",
       "      <td>0.0</td>\n",
       "      <td>0.0</td>\n",
       "      <td>0.0</td>\n",
       "      <td>0.0</td>\n",
       "      <td>1.0</td>\n",
       "    </tr>\n",
       "    <tr>\n",
       "      <th>...</th>\n",
       "      <td>...</td>\n",
       "      <td>...</td>\n",
       "      <td>...</td>\n",
       "      <td>...</td>\n",
       "      <td>...</td>\n",
       "      <td>...</td>\n",
       "      <td>...</td>\n",
       "      <td>...</td>\n",
       "      <td>...</td>\n",
       "      <td>...</td>\n",
       "      <td>...</td>\n",
       "    </tr>\n",
       "    <tr>\n",
       "      <th>Filler_zif</th>\n",
       "      <td>int64</td>\n",
       "      <td>3282</td>\n",
       "      <td>2</td>\n",
       "      <td>0.0</td>\n",
       "      <td>0.01</td>\n",
       "      <td>0.07</td>\n",
       "      <td>0.0</td>\n",
       "      <td>0.0</td>\n",
       "      <td>0.0</td>\n",
       "      <td>0.0</td>\n",
       "      <td>1.0</td>\n",
       "    </tr>\n",
       "    <tr>\n",
       "      <th>Filler_zinc-hydroxystannate</th>\n",
       "      <td>int64</td>\n",
       "      <td>3282</td>\n",
       "      <td>2</td>\n",
       "      <td>0.0</td>\n",
       "      <td>0.00</td>\n",
       "      <td>0.03</td>\n",
       "      <td>0.0</td>\n",
       "      <td>0.0</td>\n",
       "      <td>0.0</td>\n",
       "      <td>0.0</td>\n",
       "      <td>1.0</td>\n",
       "    </tr>\n",
       "    <tr>\n",
       "      <th>Filler_zn-fe-ldh</th>\n",
       "      <td>int64</td>\n",
       "      <td>3282</td>\n",
       "      <td>2</td>\n",
       "      <td>0.0</td>\n",
       "      <td>0.00</td>\n",
       "      <td>0.03</td>\n",
       "      <td>0.0</td>\n",
       "      <td>0.0</td>\n",
       "      <td>0.0</td>\n",
       "      <td>0.0</td>\n",
       "      <td>1.0</td>\n",
       "    </tr>\n",
       "    <tr>\n",
       "      <th>Filler_zpd</th>\n",
       "      <td>int64</td>\n",
       "      <td>3282</td>\n",
       "      <td>2</td>\n",
       "      <td>0.0</td>\n",
       "      <td>0.00</td>\n",
       "      <td>0.02</td>\n",
       "      <td>0.0</td>\n",
       "      <td>0.0</td>\n",
       "      <td>0.0</td>\n",
       "      <td>0.0</td>\n",
       "      <td>1.0</td>\n",
       "    </tr>\n",
       "    <tr>\n",
       "      <th>Filler_zro2</th>\n",
       "      <td>int64</td>\n",
       "      <td>3282</td>\n",
       "      <td>2</td>\n",
       "      <td>0.0</td>\n",
       "      <td>0.00</td>\n",
       "      <td>0.03</td>\n",
       "      <td>0.0</td>\n",
       "      <td>0.0</td>\n",
       "      <td>0.0</td>\n",
       "      <td>0.0</td>\n",
       "      <td>1.0</td>\n",
       "    </tr>\n",
       "  </tbody>\n",
       "</table>\n",
       "<p>611 rows × 11 columns</p>\n",
       "</div>"
      ],
      "text/plain": [
       "                                                   Data Type  Non-Null Count  \\\n",
       "Accelerator_1-mi                                       int64            3282   \n",
       "Accelerator_2-mi                                       int64            3282   \n",
       "Accelerator_2e4mi                                      int64            3282   \n",
       "Accelerator_anhydrous zinc acetate + zinc acety...     int64            3282   \n",
       "Accelerator_basf-catalyst                              int64            3282   \n",
       "...                                                      ...             ...   \n",
       "Filler_zif                                             int64            3282   \n",
       "Filler_zinc-hydroxystannate                            int64            3282   \n",
       "Filler_zn-fe-ldh                                       int64            3282   \n",
       "Filler_zpd                                             int64            3282   \n",
       "Filler_zro2                                            int64            3282   \n",
       "\n",
       "                                                    Unique Values  Missing %  \\\n",
       "Accelerator_1-mi                                                2        0.0   \n",
       "Accelerator_2-mi                                                2        0.0   \n",
       "Accelerator_2e4mi                                               2        0.0   \n",
       "Accelerator_anhydrous zinc acetate + zinc acety...              2        0.0   \n",
       "Accelerator_basf-catalyst                                       2        0.0   \n",
       "...                                                           ...        ...   \n",
       "Filler_zif                                                      2        0.0   \n",
       "Filler_zinc-hydroxystannate                                     2        0.0   \n",
       "Filler_zn-fe-ldh                                                2        0.0   \n",
       "Filler_zpd                                                      2        0.0   \n",
       "Filler_zro2                                                     2        0.0   \n",
       "\n",
       "                                                    mean   std  min  25%  50%  \\\n",
       "Accelerator_1-mi                                    0.01  0.07  0.0  0.0  0.0   \n",
       "Accelerator_2-mi                                    0.01  0.11  0.0  0.0  0.0   \n",
       "Accelerator_2e4mi                                   0.01  0.12  0.0  0.0  0.0   \n",
       "Accelerator_anhydrous zinc acetate + zinc acety...  0.00  0.06  0.0  0.0  0.0   \n",
       "Accelerator_basf-catalyst                           0.00  0.02  0.0  0.0  0.0   \n",
       "...                                                  ...   ...  ...  ...  ...   \n",
       "Filler_zif                                          0.01  0.07  0.0  0.0  0.0   \n",
       "Filler_zinc-hydroxystannate                         0.00  0.03  0.0  0.0  0.0   \n",
       "Filler_zn-fe-ldh                                    0.00  0.03  0.0  0.0  0.0   \n",
       "Filler_zpd                                          0.00  0.02  0.0  0.0  0.0   \n",
       "Filler_zro2                                         0.00  0.03  0.0  0.0  0.0   \n",
       "\n",
       "                                                    75%  max  \n",
       "Accelerator_1-mi                                    0.0  1.0  \n",
       "Accelerator_2-mi                                    0.0  1.0  \n",
       "Accelerator_2e4mi                                   0.0  1.0  \n",
       "Accelerator_anhydrous zinc acetate + zinc acety...  0.0  1.0  \n",
       "Accelerator_basf-catalyst                           0.0  1.0  \n",
       "...                                                 ...  ...  \n",
       "Filler_zif                                          0.0  1.0  \n",
       "Filler_zinc-hydroxystannate                         0.0  1.0  \n",
       "Filler_zn-fe-ldh                                    0.0  1.0  \n",
       "Filler_zpd                                          0.0  1.0  \n",
       "Filler_zro2                                         0.0  1.0  \n",
       "\n",
       "[611 rows x 11 columns]"
      ]
     },
     "execution_count": 39,
     "metadata": {},
     "output_type": "execute_result"
    }
   ],
   "source": [
    "summarize_dataframe(df_binary)"
   ]
  },
  {
   "cell_type": "code",
   "execution_count": 40,
   "id": "a33efa41",
   "metadata": {},
   "outputs": [
    {
     "name": "stdout",
     "output_type": "stream",
     "text": [
      "DataFrame Shape: (3282, 6)\n"
     ]
    },
    {
     "data": {
      "text/html": [
       "<div>\n",
       "<style scoped>\n",
       "    .dataframe tbody tr th:only-of-type {\n",
       "        vertical-align: middle;\n",
       "    }\n",
       "\n",
       "    .dataframe tbody tr th {\n",
       "        vertical-align: top;\n",
       "    }\n",
       "\n",
       "    .dataframe thead th {\n",
       "        text-align: right;\n",
       "    }\n",
       "</style>\n",
       "<table border=\"1\" class=\"dataframe\">\n",
       "  <thead>\n",
       "    <tr style=\"text-align: right;\">\n",
       "      <th></th>\n",
       "      <th>Data Type</th>\n",
       "      <th>Non-Null Count</th>\n",
       "      <th>Unique Values</th>\n",
       "      <th>Missing %</th>\n",
       "      <th>mean</th>\n",
       "      <th>std</th>\n",
       "      <th>min</th>\n",
       "      <th>25%</th>\n",
       "      <th>50%</th>\n",
       "      <th>75%</th>\n",
       "      <th>max</th>\n",
       "    </tr>\n",
       "  </thead>\n",
       "  <tbody>\n",
       "    <tr>\n",
       "      <th>Flexural Strength(MPa)</th>\n",
       "      <td>float64</td>\n",
       "      <td>1643</td>\n",
       "      <td>1235</td>\n",
       "      <td>49.94</td>\n",
       "      <td>229.08</td>\n",
       "      <td>597.45</td>\n",
       "      <td>1.78</td>\n",
       "      <td>74.30</td>\n",
       "      <td>100.4</td>\n",
       "      <td>130.48</td>\n",
       "      <td>7400.00</td>\n",
       "    </tr>\n",
       "    <tr>\n",
       "      <th>Flexural Modulus(MPa)</th>\n",
       "      <td>float64</td>\n",
       "      <td>877</td>\n",
       "      <td>679</td>\n",
       "      <td>73.28</td>\n",
       "      <td>12058.86</td>\n",
       "      <td>28412.67</td>\n",
       "      <td>0.62</td>\n",
       "      <td>2483.06</td>\n",
       "      <td>3000.0</td>\n",
       "      <td>3990.00</td>\n",
       "      <td>190990.00</td>\n",
       "    </tr>\n",
       "    <tr>\n",
       "      <th>Impact Strength(kJ/m2)</th>\n",
       "      <td>float64</td>\n",
       "      <td>1214</td>\n",
       "      <td>806</td>\n",
       "      <td>63.01</td>\n",
       "      <td>297.11</td>\n",
       "      <td>2402.38</td>\n",
       "      <td>0.00</td>\n",
       "      <td>9.25</td>\n",
       "      <td>17.0</td>\n",
       "      <td>33.50</td>\n",
       "      <td>33572.23</td>\n",
       "    </tr>\n",
       "    <tr>\n",
       "      <th>Young Modulus(MPa)</th>\n",
       "      <td>float64</td>\n",
       "      <td>1044</td>\n",
       "      <td>802</td>\n",
       "      <td>68.19</td>\n",
       "      <td>2941.05</td>\n",
       "      <td>7998.55</td>\n",
       "      <td>0.08</td>\n",
       "      <td>1011.25</td>\n",
       "      <td>2080.0</td>\n",
       "      <td>3010.00</td>\n",
       "      <td>217300.00</td>\n",
       "    </tr>\n",
       "    <tr>\n",
       "      <th>Tensile Strength(MPa)</th>\n",
       "      <td>float64</td>\n",
       "      <td>2602</td>\n",
       "      <td>1647</td>\n",
       "      <td>20.72</td>\n",
       "      <td>116.02</td>\n",
       "      <td>330.50</td>\n",
       "      <td>0.13</td>\n",
       "      <td>42.30</td>\n",
       "      <td>60.1</td>\n",
       "      <td>76.68</td>\n",
       "      <td>6000.00</td>\n",
       "    </tr>\n",
       "    <tr>\n",
       "      <th>Elongation at Break(%)</th>\n",
       "      <td>float64</td>\n",
       "      <td>1246</td>\n",
       "      <td>637</td>\n",
       "      <td>62.04</td>\n",
       "      <td>15.78</td>\n",
       "      <td>30.40</td>\n",
       "      <td>1.08</td>\n",
       "      <td>4.30</td>\n",
       "      <td>6.5</td>\n",
       "      <td>11.00</td>\n",
       "      <td>375.00</td>\n",
       "    </tr>\n",
       "  </tbody>\n",
       "</table>\n",
       "</div>"
      ],
      "text/plain": [
       "                       Data Type  Non-Null Count  Unique Values  Missing %  \\\n",
       "Flexural Strength(MPa)   float64            1643           1235      49.94   \n",
       "Flexural Modulus(MPa)    float64             877            679      73.28   \n",
       "Impact Strength(kJ/m2)   float64            1214            806      63.01   \n",
       "Young Modulus(MPa)       float64            1044            802      68.19   \n",
       "Tensile Strength(MPa)    float64            2602           1647      20.72   \n",
       "Elongation at Break(%)   float64            1246            637      62.04   \n",
       "\n",
       "                            mean       std   min      25%     50%      75%  \\\n",
       "Flexural Strength(MPa)    229.08    597.45  1.78    74.30   100.4   130.48   \n",
       "Flexural Modulus(MPa)   12058.86  28412.67  0.62  2483.06  3000.0  3990.00   \n",
       "Impact Strength(kJ/m2)    297.11   2402.38  0.00     9.25    17.0    33.50   \n",
       "Young Modulus(MPa)       2941.05   7998.55  0.08  1011.25  2080.0  3010.00   \n",
       "Tensile Strength(MPa)     116.02    330.50  0.13    42.30    60.1    76.68   \n",
       "Elongation at Break(%)     15.78     30.40  1.08     4.30     6.5    11.00   \n",
       "\n",
       "                              max  \n",
       "Flexural Strength(MPa)    7400.00  \n",
       "Flexural Modulus(MPa)   190990.00  \n",
       "Impact Strength(kJ/m2)   33572.23  \n",
       "Young Modulus(MPa)      217300.00  \n",
       "Tensile Strength(MPa)     6000.00  \n",
       "Elongation at Break(%)     375.00  "
      ]
     },
     "execution_count": 40,
     "metadata": {},
     "output_type": "execute_result"
    }
   ],
   "source": [
    "summarize_dataframe(df_targets)"
   ]
  },
  {
   "cell_type": "code",
   "execution_count": 41,
   "id": "a936f9a4",
   "metadata": {},
   "outputs": [
    {
     "data": {
      "text/plain": [
       "['Flexural Strength(MPa)',\n",
       " 'Flexural Modulus(MPa)',\n",
       " 'Impact Strength(kJ/m2)',\n",
       " 'Young Modulus(MPa)',\n",
       " 'Tensile Strength(MPa)',\n",
       " 'Elongation at Break(%)']"
      ]
     },
     "execution_count": 41,
     "metadata": {},
     "output_type": "execute_result"
    }
   ],
   "source": [
    "df_targets.columns.to_list()"
   ]
  },
  {
   "cell_type": "code",
   "execution_count": 42,
   "id": "a8be8585",
   "metadata": {},
   "outputs": [
    {
     "data": {
      "text/plain": [
       "['Epoxy/Curing Ratio',\n",
       " 'Carbon Fiber(%)',\n",
       " 'Filler Proportion(%)',\n",
       " 'Temperature(K)']"
      ]
     },
     "execution_count": 42,
     "metadata": {},
     "output_type": "execute_result"
    }
   ],
   "source": [
    "df_continuous.columns.to_list()"
   ]
  },
  {
   "cell_type": "markdown",
   "id": "7da0ccaa",
   "metadata": {},
   "source": [
    "## 5 Correlation Heatmaps"
   ]
  },
  {
   "cell_type": "code",
   "execution_count": 43,
   "id": "e4efa5d4",
   "metadata": {},
   "outputs": [
    {
     "name": "stderr",
     "output_type": "stream",
     "text": [
      "\n",
      "🐉 2025-10-07 14:36 [✅ \u001b[32mINFO\u001b[0m] - Saved correlation heatmap: 'Continuous_Features_Correlation_Heatmap.svg'\u001b[0m\n"
     ]
    },
    {
     "data": {
      "image/png": "[encoded data removed]",
      "text/plain": [
       "<Figure size 1000x800 with 2 Axes>"
      ]
     },
     "metadata": {},
     "output_type": "display_data"
    }
   ],
   "source": [
    "plot_correlation_heatmap(df=df_continuous, save_dir=PM[\"feature engineering metrics\"], plot_title=\"Continuous Features Correlation Heatmap\")"
   ]
  },
  {
   "cell_type": "code",
   "execution_count": null,
   "id": "58bd7eae",
   "metadata": {},
   "outputs": [],
   "source": [
    "plot_correlation_heatmap(df=df_binary, save_dir=PM[\"feature engineering metrics\"], plot_title=\"Binary Features Correlation Heatmap\")"
   ]
  },
  {
   "cell_type": "markdown",
   "id": "8552e92c",
   "metadata": {},
   "source": [
    "## 6 Plot Value Distributions"
   ]
  },
  {
   "cell_type": "code",
   "execution_count": 18,
   "id": "1641bf37",
   "metadata": {},
   "outputs": [
    {
     "name": "stderr",
     "output_type": "stream",
     "text": [
      "\n",
      "🐉 2025-10-07 09:12 [✅ \u001b[32mINFO\u001b[0m] - Saved 4 value distribution plots.\u001b[0m\n"
     ]
    }
   ],
   "source": [
    "plot_value_distributions(df=df_continuous, \n",
    "                         save_dir=PM[\"feature engineering unclip\"],\n",
    "                         bin_threshold=5)"
   ]
  },
  {
   "cell_type": "code",
   "execution_count": 19,
   "id": "1d7799ed",
   "metadata": {},
   "outputs": [
    {
     "name": "stderr",
     "output_type": "stream",
     "text": [
      "\n",
      "🐉 2025-10-07 09:12 [✅ \u001b[32mINFO\u001b[0m] - Saved 6 value distribution plots.\u001b[0m\n"
     ]
    }
   ],
   "source": [
    "plot_value_distributions(df=df_targets,\n",
    "                         save_dir=PM[\"feature engineering unclip\"],\n",
    "                         bin_threshold=5)"
   ]
  },
  {
   "cell_type": "markdown",
   "id": "3cee21be",
   "metadata": {},
   "source": [
    "## 7 Save Data"
   ]
  },
  {
   "cell_type": "markdown",
   "id": "a26181e4",
   "metadata": {},
   "source": [
    "### 7.1 Save continuous and binary features"
   ]
  },
  {
   "cell_type": "code",
   "execution_count": 44,
   "id": "3bbbbb12",
   "metadata": {},
   "outputs": [
    {
     "name": "stderr",
     "output_type": "stream",
     "text": [
      "\n",
      "🐉 2025-10-07 14:36 [✅ \u001b[32mINFO\u001b[0m] - Merged DataFrame shape: (3282, 615)\u001b[0m\n"
     ]
    },
    {
     "name": "stdout",
     "output_type": "stream",
     "text": [
      "➡️ DataFrame 1 shape: (3282, 4)\n",
      "➡️ DataFrame 2 shape: (3282, 611)\n"
     ]
    }
   ],
   "source": [
    "df_features_merged = merge_dataframes(df_continuous, df_binary, reset_index=False, direction=\"horizontal\")"
   ]
  },
  {
   "cell_type": "code",
   "execution_count": 49,
   "id": "4fbe4c7c",
   "metadata": {},
   "outputs": [
    {
     "name": "stderr",
     "output_type": "stream",
     "text": [
      "\n",
      "🐉 2025-10-07 14:37 [✅ \u001b[32mINFO\u001b[0m] - Object of type '<class 'list'>' saved to '/home/karl/Epoxy_Design/data/Serialized Objects/BINARY_COLUMNS_list.joblib'\u001b[0m\n"
     ]
    }
   ],
   "source": [
    "serialize_object(obj=df_binary.columns.to_list(), save_dir=PM[\"binary columns\"].parent, filename=PM[\"binary columns\"].name)"
   ]
  },
  {
   "cell_type": "code",
   "execution_count": null,
   "id": "56dd97f4",
   "metadata": {},
   "outputs": [],
   "source": [
    "serialize_object(obj=df_continuous.columns.to_list(), save_dir=PM[\"continuous columns\"].parent, filename=PM[\"continuous columns\"].name)"
   ]
  },
  {
   "cell_type": "markdown",
   "id": "296c376b",
   "metadata": {},
   "source": [
    "### 7.2 Save engineered dataset"
   ]
  },
  {
   "cell_type": "code",
   "execution_count": 45,
   "id": "ab79e623",
   "metadata": {},
   "outputs": [
    {
     "name": "stderr",
     "output_type": "stream",
     "text": [
      "\n",
      "🐉 2025-10-07 14:37 [✅ \u001b[32mINFO\u001b[0m] - Merged DataFrame shape: (3282, 621)\u001b[0m\n"
     ]
    },
    {
     "name": "stdout",
     "output_type": "stream",
     "text": [
      "➡️ DataFrame 1 shape: (3282, 615)\n",
      "➡️ DataFrame 2 shape: (3282, 6)\n"
     ]
    }
   ],
   "source": [
    "df_merged = merge_dataframes(df_features_merged, df_targets, reset_index=True, direction=\"horizontal\")"
   ]
  },
  {
   "cell_type": "code",
   "execution_count": 46,
   "id": "b951f90f",
   "metadata": {},
   "outputs": [
    {
     "name": "stdout",
     "output_type": "stream",
     "text": [
      "DataFrame Shape: (3282, 621)\n"
     ]
    },
    {
     "data": {
      "text/html": [
       "<div>\n",
       "<style scoped>\n",
       "    .dataframe tbody tr th:only-of-type {\n",
       "        vertical-align: middle;\n",
       "    }\n",
       "\n",
       "    .dataframe tbody tr th {\n",
       "        vertical-align: top;\n",
       "    }\n",
       "\n",
       "    .dataframe thead th {\n",
       "        text-align: right;\n",
       "    }\n",
       "</style>\n",
       "<table border=\"1\" class=\"dataframe\">\n",
       "  <thead>\n",
       "    <tr style=\"text-align: right;\">\n",
       "      <th></th>\n",
       "      <th>Data Type</th>\n",
       "      <th>Non-Null Count</th>\n",
       "      <th>Unique Values</th>\n",
       "      <th>Missing %</th>\n",
       "      <th>mean</th>\n",
       "      <th>std</th>\n",
       "      <th>min</th>\n",
       "      <th>25%</th>\n",
       "      <th>50%</th>\n",
       "      <th>75%</th>\n",
       "      <th>max</th>\n",
       "    </tr>\n",
       "  </thead>\n",
       "  <tbody>\n",
       "    <tr>\n",
       "      <th>Epoxy/Curing Ratio</th>\n",
       "      <td>float64</td>\n",
       "      <td>2947</td>\n",
       "      <td>393</td>\n",
       "      <td>10.21</td>\n",
       "      <td>6.69</td>\n",
       "      <td>15.43</td>\n",
       "      <td>0.00</td>\n",
       "      <td>1.67</td>\n",
       "      <td>3.45</td>\n",
       "      <td>4.76</td>\n",
       "      <td>200.00</td>\n",
       "    </tr>\n",
       "    <tr>\n",
       "      <th>Carbon Fiber(%)</th>\n",
       "      <td>float64</td>\n",
       "      <td>920</td>\n",
       "      <td>33</td>\n",
       "      <td>71.97</td>\n",
       "      <td>12.39</td>\n",
       "      <td>24.00</td>\n",
       "      <td>0.00</td>\n",
       "      <td>0.00</td>\n",
       "      <td>0.00</td>\n",
       "      <td>0.00</td>\n",
       "      <td>100.00</td>\n",
       "    </tr>\n",
       "    <tr>\n",
       "      <th>Filler Proportion(%)</th>\n",
       "      <td>float64</td>\n",
       "      <td>2594</td>\n",
       "      <td>173</td>\n",
       "      <td>20.96</td>\n",
       "      <td>22.32</td>\n",
       "      <td>61.53</td>\n",
       "      <td>0.00</td>\n",
       "      <td>4.00</td>\n",
       "      <td>10.00</td>\n",
       "      <td>25.00</td>\n",
       "      <td>2025.00</td>\n",
       "    </tr>\n",
       "    <tr>\n",
       "      <th>Temperature(K)</th>\n",
       "      <td>float64</td>\n",
       "      <td>2027</td>\n",
       "      <td>56</td>\n",
       "      <td>38.24</td>\n",
       "      <td>368.11</td>\n",
       "      <td>35.12</td>\n",
       "      <td>298.15</td>\n",
       "      <td>353.15</td>\n",
       "      <td>363.15</td>\n",
       "      <td>393.15</td>\n",
       "      <td>473.15</td>\n",
       "    </tr>\n",
       "    <tr>\n",
       "      <th>Accelerator_1-mi</th>\n",
       "      <td>int64</td>\n",
       "      <td>3282</td>\n",
       "      <td>2</td>\n",
       "      <td>0.00</td>\n",
       "      <td>0.01</td>\n",
       "      <td>0.07</td>\n",
       "      <td>0.00</td>\n",
       "      <td>0.00</td>\n",
       "      <td>0.00</td>\n",
       "      <td>0.00</td>\n",
       "      <td>1.00</td>\n",
       "    </tr>\n",
       "    <tr>\n",
       "      <th>...</th>\n",
       "      <td>...</td>\n",
       "      <td>...</td>\n",
       "      <td>...</td>\n",
       "      <td>...</td>\n",
       "      <td>...</td>\n",
       "      <td>...</td>\n",
       "      <td>...</td>\n",
       "      <td>...</td>\n",
       "      <td>...</td>\n",
       "      <td>...</td>\n",
       "      <td>...</td>\n",
       "    </tr>\n",
       "    <tr>\n",
       "      <th>Flexural Modulus(MPa)</th>\n",
       "      <td>float64</td>\n",
       "      <td>877</td>\n",
       "      <td>679</td>\n",
       "      <td>73.28</td>\n",
       "      <td>12058.86</td>\n",
       "      <td>28412.67</td>\n",
       "      <td>0.62</td>\n",
       "      <td>2483.06</td>\n",
       "      <td>3000.00</td>\n",
       "      <td>3990.00</td>\n",
       "      <td>190990.00</td>\n",
       "    </tr>\n",
       "    <tr>\n",
       "      <th>Impact Strength(kJ/m2)</th>\n",
       "      <td>float64</td>\n",
       "      <td>1214</td>\n",
       "      <td>806</td>\n",
       "      <td>63.01</td>\n",
       "      <td>297.11</td>\n",
       "      <td>2402.38</td>\n",
       "      <td>0.00</td>\n",
       "      <td>9.25</td>\n",
       "      <td>17.00</td>\n",
       "      <td>33.50</td>\n",
       "      <td>33572.23</td>\n",
       "    </tr>\n",
       "    <tr>\n",
       "      <th>Young Modulus(MPa)</th>\n",
       "      <td>float64</td>\n",
       "      <td>1044</td>\n",
       "      <td>802</td>\n",
       "      <td>68.19</td>\n",
       "      <td>2941.05</td>\n",
       "      <td>7998.55</td>\n",
       "      <td>0.08</td>\n",
       "      <td>1011.25</td>\n",
       "      <td>2080.00</td>\n",
       "      <td>3010.00</td>\n",
       "      <td>217300.00</td>\n",
       "    </tr>\n",
       "    <tr>\n",
       "      <th>Tensile Strength(MPa)</th>\n",
       "      <td>float64</td>\n",
       "      <td>2602</td>\n",
       "      <td>1647</td>\n",
       "      <td>20.72</td>\n",
       "      <td>116.02</td>\n",
       "      <td>330.50</td>\n",
       "      <td>0.13</td>\n",
       "      <td>42.30</td>\n",
       "      <td>60.10</td>\n",
       "      <td>76.68</td>\n",
       "      <td>6000.00</td>\n",
       "    </tr>\n",
       "    <tr>\n",
       "      <th>Elongation at Break(%)</th>\n",
       "      <td>float64</td>\n",
       "      <td>1246</td>\n",
       "      <td>637</td>\n",
       "      <td>62.04</td>\n",
       "      <td>15.78</td>\n",
       "      <td>30.40</td>\n",
       "      <td>1.08</td>\n",
       "      <td>4.30</td>\n",
       "      <td>6.50</td>\n",
       "      <td>11.00</td>\n",
       "      <td>375.00</td>\n",
       "    </tr>\n",
       "  </tbody>\n",
       "</table>\n",
       "<p>621 rows × 11 columns</p>\n",
       "</div>"
      ],
      "text/plain": [
       "                       Data Type  Non-Null Count  Unique Values  Missing %  \\\n",
       "Epoxy/Curing Ratio       float64            2947            393      10.21   \n",
       "Carbon Fiber(%)          float64             920             33      71.97   \n",
       "Filler Proportion(%)     float64            2594            173      20.96   \n",
       "Temperature(K)           float64            2027             56      38.24   \n",
       "Accelerator_1-mi           int64            3282              2       0.00   \n",
       "...                          ...             ...            ...        ...   \n",
       "Flexural Modulus(MPa)    float64             877            679      73.28   \n",
       "Impact Strength(kJ/m2)   float64            1214            806      63.01   \n",
       "Young Modulus(MPa)       float64            1044            802      68.19   \n",
       "Tensile Strength(MPa)    float64            2602           1647      20.72   \n",
       "Elongation at Break(%)   float64            1246            637      62.04   \n",
       "\n",
       "                            mean       std     min      25%      50%      75%  \\\n",
       "Epoxy/Curing Ratio          6.69     15.43    0.00     1.67     3.45     4.76   \n",
       "Carbon Fiber(%)            12.39     24.00    0.00     0.00     0.00     0.00   \n",
       "Filler Proportion(%)       22.32     61.53    0.00     4.00    10.00    25.00   \n",
       "Temperature(K)            368.11     35.12  298.15   353.15   363.15   393.15   \n",
       "Accelerator_1-mi            0.01      0.07    0.00     0.00     0.00     0.00   \n",
       "...                          ...       ...     ...      ...      ...      ...   \n",
       "Flexural Modulus(MPa)   12058.86  28412.67    0.62  2483.06  3000.00  3990.00   \n",
       "Impact Strength(kJ/m2)    297.11   2402.38    0.00     9.25    17.00    33.50   \n",
       "Young Modulus(MPa)       2941.05   7998.55    0.08  1011.25  2080.00  3010.00   \n",
       "Tensile Strength(MPa)     116.02    330.50    0.13    42.30    60.10    76.68   \n",
       "Elongation at Break(%)     15.78     30.40    1.08     4.30     6.50    11.00   \n",
       "\n",
       "                              max  \n",
       "Epoxy/Curing Ratio         200.00  \n",
       "Carbon Fiber(%)            100.00  \n",
       "Filler Proportion(%)      2025.00  \n",
       "Temperature(K)             473.15  \n",
       "Accelerator_1-mi             1.00  \n",
       "...                           ...  \n",
       "Flexural Modulus(MPa)   190990.00  \n",
       "Impact Strength(kJ/m2)   33572.23  \n",
       "Young Modulus(MPa)      217300.00  \n",
       "Tensile Strength(MPa)     6000.00  \n",
       "Elongation at Break(%)     375.00  \n",
       "\n",
       "[621 rows x 11 columns]"
      ]
     },
     "execution_count": 46,
     "metadata": {},
     "output_type": "execute_result"
    }
   ],
   "source": [
    "summarize_dataframe(df_merged)"
   ]
  },
  {
   "cell_type": "code",
   "execution_count": null,
   "id": "59e0422d",
   "metadata": {},
   "outputs": [
    {
     "name": "stderr",
     "output_type": "stream",
     "text": [
      "\n",
      "🐉 2025-10-07 14:37 [✅ \u001b[32mINFO\u001b[0m] - Saved dataset: 'engineered_dataset.csv' with shape: (3282, 621)\u001b[0m\n"
     ]
    }
   ],
   "source": [
    "save_dataframe(df=df_merged, save_dir=PM[\"engineered data unclip\"].parent, filename=PM[\"engineered data unclip\"].name)"
   ]
  }
 ],
 "metadata": {
  "kernelspec": {
   "display_name": "dragon-ml",
   "language": "python",
   "name": "python3"
  },
  "language_info": {
   "codemirror_mode": {
    "name": "ipython",
    "version": 3
   },
   "file_extension": ".py",
   "mimetype": "text/x-python",
   "name": "python",
   "nbconvert_exporter": "python",
   "pygments_lexer": "ipython3",
   "version": "3.12.11"
  }
 },
 "nbformat": 4,
 "nbformat_minor": 5
}
