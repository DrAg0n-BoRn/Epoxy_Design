{
 "cells": [
  {
   "cell_type": "markdown",
   "id": "9a2bbecf",
   "metadata": {},
   "source": [
    "# Feature Engineering"
   ]
  },
  {
   "cell_type": "code",
   "execution_count": null,
   "id": "375b8f63",
   "metadata": {},
   "outputs": [],
   "source": [
    "from ml_tools.data_exploration import info\n",
    "info()"
   ]
  },
  {
   "cell_type": "code",
   "execution_count": null,
   "id": "ae0faa17",
   "metadata": {},
   "outputs": [],
   "source": [
    "from ml_tools.data_exploration import (summarize_dataframe,\n",
    "                                       show_null_columns,\n",
    "                                       drop_macro,\n",
    "                                       split_features_targets,\n",
    "                                       split_continuous_binary,\n",
    "                                       plot_correlation_heatmap,\n",
    "                                       plot_value_distributions,\n",
    "                                       standardize_percentages,\n",
    "                                       match_and_filter_columns_by_regex)\n",
    "from ml_tools.utilities import load_dataframe, serialize_object, save_dataframe, merge_dataframes\n",
    "from paths import PM\n",
    "from helpers.constants import TARGETS"
   ]
  },
  {
   "cell_type": "markdown",
   "id": "a80a7e21",
   "metadata": {},
   "source": [
    "## 1 Load data"
   ]
  },
  {
   "cell_type": "code",
   "execution_count": null,
   "id": "2eb433ea",
   "metadata": {},
   "outputs": [],
   "source": [
    "df_start, _ = load_dataframe(df_path=PM[\"processed data\"], kind=\"pandas\")"
   ]
  },
  {
   "cell_type": "markdown",
   "id": "616bda03",
   "metadata": {},
   "source": [
    "## 2 Clean Data"
   ]
  },
  {
   "cell_type": "code",
   "execution_count": null,
   "id": "8f727bff",
   "metadata": {},
   "outputs": [],
   "source": [
    "df_clean = drop_macro(df=df_start, # type: ignore\n",
    "           log_directory=PM[\"feature engineering metrics\"],\n",
    "           targets=TARGETS,\n",
    "           skip_targets=False,\n",
    "           threshold=0.75)"
   ]
  },
  {
   "cell_type": "code",
   "execution_count": null,
   "id": "c5b70627",
   "metadata": {},
   "outputs": [],
   "source": [
    "summarize_dataframe(df_clean)"
   ]
  },
  {
   "cell_type": "markdown",
   "id": "277bc44f",
   "metadata": {},
   "source": [
    "## 3 Fix percentages"
   ]
  },
  {
   "cell_type": "code",
   "execution_count": null,
   "id": "da3f58c2",
   "metadata": {},
   "outputs": [],
   "source": [
    "_df_percent, percent_columns= match_and_filter_columns_by_regex(df=df_clean, pattern=r\"%\")\n",
    "\n",
    "df_fixed = standardize_percentages(df=df_clean, columns=percent_columns)"
   ]
  },
  {
   "cell_type": "markdown",
   "id": "76fc7a63",
   "metadata": {},
   "source": [
    "3.5 Make dummies for Molecular Weight feature"
   ]
  },
  {
   "cell_type": "code",
   "execution_count": null,
   "id": "7a893a77",
   "metadata": {},
   "outputs": [],
   "source": [
    "import pandas as pd \n",
    "df_fixed_2 = pd.get_dummies(data=df_fixed, columns=[\"Molecular Weight\"], dtype=int)"
   ]
  },
  {
   "cell_type": "markdown",
   "id": "28d5889e",
   "metadata": {},
   "source": [
    "## 4 Split data"
   ]
  },
  {
   "cell_type": "markdown",
   "id": "78980d1b",
   "metadata": {},
   "source": [
    "### 4.1 Features / Targets"
   ]
  },
  {
   "cell_type": "code",
   "execution_count": null,
   "id": "381a93a4",
   "metadata": {},
   "outputs": [],
   "source": [
    "df_features, df_targets = split_features_targets(df=df_fixed_2, \n",
    "                                                 targets=TARGETS)"
   ]
  },
  {
   "cell_type": "markdown",
   "id": "eb09ecfc",
   "metadata": {},
   "source": [
    "### 4.2 Continuous / Binary"
   ]
  },
  {
   "cell_type": "code",
   "execution_count": null,
   "id": "ef71906a",
   "metadata": {},
   "outputs": [],
   "source": [
    "df_continuous, df_binary = split_continuous_binary(df_features)"
   ]
  },
  {
   "cell_type": "markdown",
   "id": "67f4211a",
   "metadata": {},
   "source": [
    "### 4.3 Summarize datasets"
   ]
  },
  {
   "cell_type": "code",
   "execution_count": null,
   "id": "dffd84a4",
   "metadata": {},
   "outputs": [],
   "source": [
    "summarize_dataframe(df_continuous)"
   ]
  },
  {
   "cell_type": "code",
   "execution_count": null,
   "id": "995d58a3",
   "metadata": {},
   "outputs": [],
   "source": [
    "summarize_dataframe(df_binary)"
   ]
  },
  {
   "cell_type": "code",
   "execution_count": null,
   "id": "a33efa41",
   "metadata": {},
   "outputs": [],
   "source": [
    "summarize_dataframe(df_targets)"
   ]
  },
  {
   "cell_type": "code",
   "execution_count": null,
   "id": "a936f9a4",
   "metadata": {},
   "outputs": [],
   "source": [
    "df_targets.columns.to_list()"
   ]
  },
  {
   "cell_type": "code",
   "execution_count": null,
   "id": "a8be8585",
   "metadata": {},
   "outputs": [],
   "source": [
    "df_continuous.columns.to_list()"
   ]
  },
  {
   "cell_type": "markdown",
   "id": "7da0ccaa",
   "metadata": {},
   "source": [
    "## 5 Correlation Heatmaps"
   ]
  },
  {
   "cell_type": "code",
   "execution_count": null,
   "id": "e4efa5d4",
   "metadata": {},
   "outputs": [],
   "source": [
    "plot_correlation_heatmap(df=df_continuous, save_dir=PM[\"feature engineering metrics\"], plot_title=\"Continuous Features Correlation Heatmap\")"
   ]
  },
  {
   "cell_type": "code",
   "execution_count": null,
   "id": "58bd7eae",
   "metadata": {},
   "outputs": [],
   "source": [
    "plot_correlation_heatmap(df=df_binary, save_dir=PM[\"feature engineering metrics\"], plot_title=\"Binary Features Correlation Heatmap\")"
   ]
  },
  {
   "cell_type": "markdown",
   "id": "8552e92c",
   "metadata": {},
   "source": [
    "## 6 Plot Value Distributions"
   ]
  },
  {
   "cell_type": "code",
   "execution_count": null,
   "id": "1641bf37",
   "metadata": {},
   "outputs": [],
   "source": [
    "plot_value_distributions(df=df_continuous, \n",
    "                         save_dir=PM[\"feature engineering unclip\"],\n",
    "                         bin_threshold=5)"
   ]
  },
  {
   "cell_type": "code",
   "execution_count": null,
   "id": "1d7799ed",
   "metadata": {},
   "outputs": [],
   "source": [
    "plot_value_distributions(df=df_targets,\n",
    "                         save_dir=PM[\"feature engineering unclip\"],\n",
    "                         bin_threshold=5)"
   ]
  },
  {
   "cell_type": "markdown",
   "id": "3cee21be",
   "metadata": {},
   "source": [
    "## 7 Save Data"
   ]
  },
  {
   "cell_type": "code",
   "execution_count": null,
   "id": "3bbbbb12",
   "metadata": {},
   "outputs": [],
   "source": [
    "df_features_merged = merge_dataframes(df_continuous, df_binary, reset_index=False, direction=\"horizontal\")"
   ]
  },
  {
   "cell_type": "code",
   "execution_count": null,
   "id": "ab79e623",
   "metadata": {},
   "outputs": [],
   "source": [
    "df_merged = merge_dataframes(df_features_merged, df_targets, reset_index=True, direction=\"horizontal\")"
   ]
  },
  {
   "cell_type": "code",
   "execution_count": null,
   "id": "b951f90f",
   "metadata": {},
   "outputs": [],
   "source": [
    "summarize_dataframe(df_merged)"
   ]
  },
  {
   "cell_type": "code",
   "execution_count": null,
   "id": "59e0422d",
   "metadata": {},
   "outputs": [],
   "source": [
    "save_dataframe(df=df_merged, save_dir=PM[\"feature engineering unclip\"], filename=\"engineered_dataset\")"
   ]
  },
  {
   "cell_type": "code",
   "execution_count": null,
   "id": "72afd39e",
   "metadata": {},
   "outputs": [],
   "source": [
    "serialize_object(obj=df_features_merged.columns.to_list(), save_dir=PM[\"feature columns\"].parent, filename=PM[\"feature columns\"].name)"
   ]
  },
  {
   "cell_type": "code",
   "execution_count": null,
   "id": "4fbe4c7c",
   "metadata": {},
   "outputs": [],
   "source": [
    "serialize_object(obj=df_binary.columns.to_list(), save_dir=PM[\"binary columns\"].parent, filename=PM[\"binary columns\"].name)"
   ]
  },
  {
   "cell_type": "markdown",
   "id": "be51c834",
   "metadata": {},
   "source": [
    "Register number of features"
   ]
  }
 ],
 "metadata": {
  "kernelspec": {
   "display_name": "dragon-ml",
   "language": "python",
   "name": "python3"
  },
  "language_info": {
   "codemirror_mode": {
    "name": "ipython",
    "version": 3
   },
   "file_extension": ".py",
   "mimetype": "text/x-python",
   "name": "python",
   "nbconvert_exporter": "python",
   "pygments_lexer": "ipython3",
   "version": "3.12.11"
  }
 },
 "nbformat": 4,
 "nbformat_minor": 5
}
