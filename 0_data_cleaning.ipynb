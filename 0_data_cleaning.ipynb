{
 "cells": [
  {
   "cell_type": "markdown",
   "id": "40ed8e66",
   "metadata": {},
   "source": [
    "# 0 Data Cleaning"
   ]
  },
  {
   "cell_type": "code",
   "execution_count": 1,
   "id": "2a61b8ff",
   "metadata": {},
   "outputs": [],
   "source": [
    "from paths import PM\n",
    "from ml_tools.utilities import load_dataframe, save_dataframe\n",
    "import polars as pl"
   ]
  },
  {
   "cell_type": "markdown",
   "id": "98aec791",
   "metadata": {},
   "source": [
    "Load dataframe"
   ]
  },
  {
   "cell_type": "code",
   "execution_count": 2,
   "id": "8e873a3c",
   "metadata": {},
   "outputs": [
    {
     "name": "stdout",
     "output_type": "stream",
     "text": [
      "\n",
      "🐉2025-09-25 14:51 - ml_tools - INFO - 💾 Loaded POLARS dataset: 'epoxy_raw_data' with shape: (3397, 18)\n"
     ]
    }
   ],
   "source": [
    "df: pl.DataFrame \n",
    "df, _ = load_dataframe(df_path=PM[\"raw data\"], kind=\"polars\", all_strings=True) # type: ignore"
   ]
  },
  {
   "cell_type": "markdown",
   "id": "6bb3cfd9",
   "metadata": {},
   "source": [
    "fill in missing molecular values"
   ]
  },
  {
   "cell_type": "code",
   "execution_count": null,
   "id": "b0792b0b",
   "metadata": {},
   "outputs": [],
   "source": [
    "def clean_molecular_weight(df: pl.DataFrame):\n",
    "    \"\"\"\n",
    "    Cleans the '分子量' (Molecular Weight) column in the dataset.\n",
    "\n",
    "    The logic is as follows:\n",
    "    1.  If a '分子量' value contains a parsable number at the start, that number is extracted.\n",
    "    2.  For all other rows, the '分子量' is filled based on the most common\n",
    "        (mode) value for that '环氧' (Epoxy) type, derived from\n",
    "        the parsable rows.\n",
    "\n",
    "    Args:\n",
    "        df: The input Polars DataFrame with '分子量' and '环氧' columns.\n",
    "\n",
    "    \"\"\"\n",
    "    # Define the regex to extract a leading number\n",
    "    numeric_pattern = r\"(\\d+)\\.?\\d*\"\n",
    "\n",
    "    # --- Step 1: Create a mapping from epoxy type to its default molecular weight ---\n",
    "    # Extract numeric values from the original column to build the mapping\n",
    "    # We ignore decimals for finding the mode (e.g., 392.16 -> 392)\n",
    "    epoxy_mw_map = (\n",
    "        df.with_columns(\n",
    "            pl.col(\"分子量\")\n",
    "            .str.extract(numeric_pattern, 1)\n",
    "            .alias(\"mw_numeric\")\n",
    "        )\n",
    "        .filter(pl.col(\"mw_numeric\").is_not_null())\n",
    "        .group_by(\"环氧\")\n",
    "        .agg(pl.col(\"mw_numeric\").mode().first().alias(\"mw_mode_value\"))\n",
    "    )\n",
    "\n",
    "    # --- Step 2: Apply the cleaning logic to the '分子量' column ---\n",
    "\n",
    "    # Join the original dataframe with the mapping\n",
    "    df_with_map = df.join(epoxy_mw_map, on=\"环氧\", how=\"left\")\n",
    "\n",
    "    # Use a when-then-otherwise expression to create the new cleaned column\n",
    "    df_filled = df_with_map.with_columns(\n",
    "        pl.when(pl.col(\"分子量\").str.contains(numeric_pattern))\n",
    "        .then(pl.col(\"分子量\").str.extract(numeric_pattern, 1))\n",
    "        .otherwise(pl.col(\"mw_mode_value\"))\n",
    "        .alias(\"分子量_filled\")\n",
    "    )\n",
    "    \n",
    "    df_filled = df_filled.drop([\"分子量\",\"环氧\", \"mw_mode_value\"]).rename({\"分子量_filled\": \"分子量\"})\n",
    "    print(df_filled.shape)\n",
    "    \n",
    "    return df_filled, epoxy_mw_map"
   ]
  },
  {
   "cell_type": "code",
   "execution_count": 4,
   "id": "626fd35f",
   "metadata": {},
   "outputs": [
    {
     "name": "stdout",
     "output_type": "stream",
     "text": [
      "(3397, 17)\n"
     ]
    }
   ],
   "source": [
    "clean_df, epoxy_map = clean_molecular_weight(df=df)"
   ]
  },
  {
   "cell_type": "markdown",
   "id": "7d3fbade",
   "metadata": {},
   "source": [
    "Filter empty rows"
   ]
  },
  {
   "cell_type": "code",
   "execution_count": 5,
   "id": "d67c7bc1",
   "metadata": {},
   "outputs": [
    {
     "data": {
      "text/plain": [
       "(2948, 17)"
      ]
     },
     "execution_count": 5,
     "metadata": {},
     "output_type": "execute_result"
    }
   ],
   "source": [
    "df_filtered = clean_df.filter(pl.col(\"分子量\").is_not_null())\n",
    "df_filtered.shape"
   ]
  },
  {
   "cell_type": "markdown",
   "id": "34d60709",
   "metadata": {},
   "source": [
    "drop groups with 2 or less samples"
   ]
  },
  {
   "cell_type": "code",
   "execution_count": 6,
   "id": "54413257",
   "metadata": {},
   "outputs": [
    {
     "data": {
      "text/plain": [
       "(2938, 17)"
      ]
     },
     "execution_count": 6,
     "metadata": {},
     "output_type": "execute_result"
    }
   ],
   "source": [
    "df_filtered_final = df_filtered.filter(pl.col(\"分子量\").count().over(\"分子量\") > 2)\n",
    "df_filtered_final.shape"
   ]
  },
  {
   "cell_type": "markdown",
   "id": "5ea04fbd",
   "metadata": {},
   "source": [
    "Check value counts for categories"
   ]
  },
  {
   "cell_type": "code",
   "execution_count": 7,
   "id": "4c2f5c6a",
   "metadata": {},
   "outputs": [
    {
     "data": {
      "text/html": [
       "<div><style>\n",
       ".dataframe > thead > tr,\n",
       ".dataframe > tbody > tr {\n",
       "  text-align: right;\n",
       "  white-space: pre-wrap;\n",
       "}\n",
       "</style>\n",
       "<small>shape: (41, 2)</small><table border=\"1\" class=\"dataframe\"><thead><tr><th>分子量</th><th>Molecular Weight Categories</th></tr><tr><td>str</td><td>u32</td></tr></thead><tbody><tr><td>&quot;392&quot;</td><td>1445</td></tr><tr><td>&quot;454&quot;</td><td>632</td></tr><tr><td>&quot;340&quot;</td><td>355</td></tr><tr><td>&quot;370&quot;</td><td>84</td></tr><tr><td>&quot;1667&quot;</td><td>24</td></tr><tr><td>&hellip;</td><td>&hellip;</td></tr><tr><td>&quot;220&quot;</td><td>4</td></tr><tr><td>&quot;465&quot;</td><td>4</td></tr><tr><td>&quot;550&quot;</td><td>4</td></tr><tr><td>&quot;438&quot;</td><td>3</td></tr><tr><td>&quot;1260&quot;</td><td>3</td></tr></tbody></table></div>"
      ],
      "text/plain": [
       "shape: (41, 2)\n",
       "┌────────┬─────────────────────────────┐\n",
       "│ 分子量 ┆ Molecular Weight Categories │\n",
       "│ ---    ┆ ---                         │\n",
       "│ str    ┆ u32                         │\n",
       "╞════════╪═════════════════════════════╡\n",
       "│ 392    ┆ 1445                        │\n",
       "│ 454    ┆ 632                         │\n",
       "│ 340    ┆ 355                         │\n",
       "│ 370    ┆ 84                          │\n",
       "│ 1667   ┆ 24                          │\n",
       "│ …      ┆ …                           │\n",
       "│ 220    ┆ 4                           │\n",
       "│ 465    ┆ 4                           │\n",
       "│ 550    ┆ 4                           │\n",
       "│ 438    ┆ 3                           │\n",
       "│ 1260   ┆ 3                           │\n",
       "└────────┴─────────────────────────────┘"
      ]
     },
     "execution_count": 7,
     "metadata": {},
     "output_type": "execute_result"
    }
   ],
   "source": [
    "df_filtered_final.get_column(\"分子量\").value_counts(sort=True, name=\"Molecular Weight Categories\")"
   ]
  },
  {
   "cell_type": "markdown",
   "id": "5f4695eb",
   "metadata": {},
   "source": [
    "Save dataframe"
   ]
  },
  {
   "cell_type": "code",
   "execution_count": 8,
   "id": "7f6bc47a",
   "metadata": {},
   "outputs": [
    {
     "name": "stdout",
     "output_type": "stream",
     "text": [
      "\n",
      "🐉2025-09-25 14:51 - ml_tools - INFO - ✅ Saved dataset: 'cleaned_data.csv' with shape: (2938, 17)\n"
     ]
    }
   ],
   "source": [
    "save_dataframe(df=df_filtered_final, save_dir=PM[\"clean data\"].parent, filename=PM[\"clean data\"].name)"
   ]
  },
  {
   "cell_type": "markdown",
   "id": "ac7c0aa1",
   "metadata": {},
   "source": [
    "Check mapping"
   ]
  },
  {
   "cell_type": "code",
   "execution_count": 9,
   "id": "a17692a2",
   "metadata": {},
   "outputs": [
    {
     "data": {
      "text/html": [
       "<div><style>\n",
       ".dataframe > thead > tr,\n",
       ".dataframe > tbody > tr {\n",
       "  text-align: right;\n",
       "  white-space: pre-wrap;\n",
       "}\n",
       "</style>\n",
       "<small>shape: (86, 2)</small><table border=\"1\" class=\"dataframe\"><thead><tr><th>环氧</th><th>mw_fill_value</th></tr><tr><td>str</td><td>str</td></tr></thead><tbody><tr><td>&quot;双酚A型环氧树脂&quot;</td><td>&quot;483&quot;</td></tr><tr><td>&quot;耐高温环氧树脂 BH140&quot;</td><td>&quot;422&quot;</td></tr><tr><td>&quot;环氧树脂E51&quot;</td><td>&quot;340&quot;</td></tr><tr><td>&quot;CYD-128（E51）&quot;</td><td>&quot;392&quot;</td></tr><tr><td>&quot;环氧树脂 E44&quot;</td><td>&quot;454&quot;</td></tr><tr><td>&hellip;</td><td>&hellip;</td></tr><tr><td>&quot;双酚 A 环氧树脂（DGEBA）&quot;</td><td>&quot;392&quot;</td></tr><tr><td>&quot;双酚S四缩水甘油醚(SEP)&quot;</td><td>&quot;392&quot;</td></tr><tr><td>&quot;双酚Ａ型环氧树脂（DGEBA）&quot;</td><td>&quot;340&quot;</td></tr><tr><td>&quot;柚皮素环氧树脂&quot;</td><td>&quot;483&quot;</td></tr><tr><td>&quot;超支化环氧树脂&quot;</td><td>&quot;1260&quot;</td></tr></tbody></table></div>"
      ],
      "text/plain": [
       "shape: (86, 2)\n",
       "┌───────────────────────────┬───────────────┐\n",
       "│ 环氧                      ┆ mw_fill_value │\n",
       "│ ---                       ┆ ---           │\n",
       "│ str                       ┆ str           │\n",
       "╞═══════════════════════════╪═══════════════╡\n",
       "│ 双酚A型环氧树脂           ┆ 483           │\n",
       "│ 耐高温环氧树脂 BH140      ┆ 422           │\n",
       "│ 环氧树脂E51               ┆ 340           │\n",
       "│ CYD-128（E51）            ┆ 392           │\n",
       "│ 环氧树脂 E44              ┆ 454           │\n",
       "│ …                         ┆ …             │\n",
       "│ 双酚 A 环氧树脂（DGEBA）  ┆ 392           │\n",
       "│ 双酚S四缩水甘油醚(SEP)    ┆ 392           │\n",
       "│ 双酚Ａ型环氧树脂（DGEBA） ┆ 340           │\n",
       "│ 柚皮素环氧树脂            ┆ 483           │\n",
       "│ 超支化环氧树脂            ┆ 1260          │\n",
       "└───────────────────────────┴───────────────┘"
      ]
     },
     "execution_count": 9,
     "metadata": {},
     "output_type": "execute_result"
    }
   ],
   "source": [
    "epoxy_map"
   ]
  },
  {
   "cell_type": "markdown",
   "id": "fff2c621",
   "metadata": {},
   "source": [
    "Save molecular weight map"
   ]
  },
  {
   "cell_type": "code",
   "execution_count": 10,
   "id": "4ee1cec6",
   "metadata": {},
   "outputs": [
    {
     "name": "stdout",
     "output_type": "stream",
     "text": [
      "\n",
      "🐉2025-09-25 14:51 - ml_tools - INFO - ✅ Saved dataset: 'epoxy_mw_map.csv' with shape: (86, 2)\n"
     ]
    }
   ],
   "source": [
    "save_dataframe(df=epoxy_map, save_dir=PM[\"epoxy map\"].parent, filename=PM[\"epoxy map\"].name)"
   ]
  }
 ],
 "metadata": {
  "kernelspec": {
   "display_name": "dragon-ml",
   "language": "python",
   "name": "python3"
  },
  "language_info": {
   "codemirror_mode": {
    "name": "ipython",
    "version": 3
   },
   "file_extension": ".py",
   "mimetype": "text/x-python",
   "name": "python",
   "nbconvert_exporter": "python",
   "pygments_lexer": "ipython3",
   "version": "3.12.11"
  }
 },
 "nbformat": 4,
 "nbformat_minor": 5
}
