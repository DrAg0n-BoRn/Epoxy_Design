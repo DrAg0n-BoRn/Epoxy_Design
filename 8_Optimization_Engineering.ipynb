{
 "cells": [
  {
   "cell_type": "markdown",
   "id": "3e2f19f9",
   "metadata": {},
   "source": [
    "# Optimization Engineering"
   ]
  },
  {
   "cell_type": "code",
   "execution_count": 1,
   "id": "bf439497",
   "metadata": {},
   "outputs": [],
   "source": [
    "from ml_tools.utilities import (select_features_by_shap, \n",
    "                                load_dataframe, \n",
    "                                save_dataframe,\n",
    "                                merge_dataframes,\n",
    "                                serialize_object,\n",
    "                                distribute_dataset_by_target)\n",
    "from ml_tools.path_manager import list_csv_paths\n",
    "from helpers.constants import OPTIMIZATION_TARGETS\n",
    "from paths import PM\n",
    "from ml_tools.data_exploration import (summarize_dataframe,\n",
    "                                       drop_macro,\n",
    "                                       split_features_targets,\n",
    "                                       split_continuous_binary,\n",
    "                                       plot_correlation_heatmap)"
   ]
  },
  {
   "cell_type": "markdown",
   "id": "bcc41549",
   "metadata": {},
   "source": [
    "## 1. Load dataframe with important features only"
   ]
  },
  {
   "cell_type": "code",
   "execution_count": 2,
   "id": "04960459",
   "metadata": {},
   "outputs": [
    {
     "name": "stderr",
     "output_type": "stream",
     "text": [
      "\n",
      "🐉 2025-10-10 10:37 [✅ \u001b[32mINFO\u001b[0m] - Starting feature selection with SHAP threshold >= 1.0\u001b[0m\n",
      "\n",
      "🐉 2025-10-10 10:37 [✅ \u001b[32mINFO\u001b[0m] - Found 6 SHAP summary files to process.\u001b[0m\n",
      "\n",
      "🐉 2025-10-10 10:37 [✅ \u001b[32mINFO\u001b[0m] - Selected 144 unique features across all files.\u001b[0m\n"
     ]
    }
   ],
   "source": [
    "chosen_features = select_features_by_shap(root_directory=PM[\"train metrics\"], shap_threshold=1.0)"
   ]
  },
  {
   "cell_type": "code",
   "execution_count": 3,
   "id": "92908555",
   "metadata": {},
   "outputs": [
    {
     "name": "stderr",
     "output_type": "stream",
     "text": [
      "\n",
      "🐉 2025-10-10 10:37 [✅ \u001b[32mINFO\u001b[0m] - 💾 Loaded PANDAS dataset: 'engineered_dataset_clip_MICE' with shape: (3282, 150)\u001b[0m\n"
     ]
    }
   ],
   "source": [
    "all_columns = chosen_features + OPTIMIZATION_TARGETS\n",
    "\n",
    "for df_name, df_path in list_csv_paths(directory=PM[\"mice datasets\"], verbose=False).items():\n",
    "    df_raw, _ = load_dataframe(df_path=df_path, use_columns=all_columns, kind=\"pandas\")\n",
    "    break"
   ]
  },
  {
   "cell_type": "code",
   "execution_count": 4,
   "id": "446283c3",
   "metadata": {},
   "outputs": [
    {
     "name": "stdout",
     "output_type": "stream",
     "text": [
      "DataFrame Shape: (3282, 150)\n"
     ]
    },
    {
     "data": {
      "text/html": [
       "<div>\n",
       "<style scoped>\n",
       "    .dataframe tbody tr th:only-of-type {\n",
       "        vertical-align: middle;\n",
       "    }\n",
       "\n",
       "    .dataframe tbody tr th {\n",
       "        vertical-align: top;\n",
       "    }\n",
       "\n",
       "    .dataframe thead th {\n",
       "        text-align: right;\n",
       "    }\n",
       "</style>\n",
       "<table border=\"1\" class=\"dataframe\">\n",
       "  <thead>\n",
       "    <tr style=\"text-align: right;\">\n",
       "      <th></th>\n",
       "      <th>Data Type</th>\n",
       "      <th>Non-Null Count</th>\n",
       "      <th>Unique Values</th>\n",
       "      <th>Missing %</th>\n",
       "      <th>mean</th>\n",
       "      <th>std</th>\n",
       "      <th>min</th>\n",
       "      <th>25%</th>\n",
       "      <th>50%</th>\n",
       "      <th>75%</th>\n",
       "      <th>max</th>\n",
       "    </tr>\n",
       "  </thead>\n",
       "  <tbody>\n",
       "    <tr>\n",
       "      <th>Epoxy/Curing Ratio</th>\n",
       "      <td>float64</td>\n",
       "      <td>3282</td>\n",
       "      <td>346</td>\n",
       "      <td>0.00</td>\n",
       "      <td>6.46</td>\n",
       "      <td>14.69</td>\n",
       "      <td>1.00</td>\n",
       "      <td>1.81</td>\n",
       "      <td>3.46</td>\n",
       "      <td>4.63</td>\n",
       "      <td>200.00</td>\n",
       "    </tr>\n",
       "    <tr>\n",
       "      <th>Carbon Fiber(%)</th>\n",
       "      <td>float64</td>\n",
       "      <td>3282</td>\n",
       "      <td>32</td>\n",
       "      <td>0.00</td>\n",
       "      <td>13.06</td>\n",
       "      <td>24.16</td>\n",
       "      <td>0.00</td>\n",
       "      <td>0.00</td>\n",
       "      <td>0.00</td>\n",
       "      <td>0.00</td>\n",
       "      <td>70.00</td>\n",
       "    </tr>\n",
       "    <tr>\n",
       "      <th>Filler Proportion(%)</th>\n",
       "      <td>float64</td>\n",
       "      <td>3282</td>\n",
       "      <td>168</td>\n",
       "      <td>0.00</td>\n",
       "      <td>20.17</td>\n",
       "      <td>23.30</td>\n",
       "      <td>0.00</td>\n",
       "      <td>4.00</td>\n",
       "      <td>10.00</td>\n",
       "      <td>30.00</td>\n",
       "      <td>85.00</td>\n",
       "    </tr>\n",
       "    <tr>\n",
       "      <th>Temperature(K)</th>\n",
       "      <td>float64</td>\n",
       "      <td>3282</td>\n",
       "      <td>56</td>\n",
       "      <td>0.00</td>\n",
       "      <td>366.67</td>\n",
       "      <td>35.16</td>\n",
       "      <td>298.15</td>\n",
       "      <td>353.15</td>\n",
       "      <td>363.15</td>\n",
       "      <td>393.15</td>\n",
       "      <td>473.15</td>\n",
       "    </tr>\n",
       "    <tr>\n",
       "      <th>Accelerator_2-mi</th>\n",
       "      <td>float64</td>\n",
       "      <td>3282</td>\n",
       "      <td>2</td>\n",
       "      <td>0.00</td>\n",
       "      <td>0.01</td>\n",
       "      <td>0.11</td>\n",
       "      <td>0.00</td>\n",
       "      <td>0.00</td>\n",
       "      <td>0.00</td>\n",
       "      <td>0.00</td>\n",
       "      <td>1.00</td>\n",
       "    </tr>\n",
       "    <tr>\n",
       "      <th>...</th>\n",
       "      <td>...</td>\n",
       "      <td>...</td>\n",
       "      <td>...</td>\n",
       "      <td>...</td>\n",
       "      <td>...</td>\n",
       "      <td>...</td>\n",
       "      <td>...</td>\n",
       "      <td>...</td>\n",
       "      <td>...</td>\n",
       "      <td>...</td>\n",
       "      <td>...</td>\n",
       "    </tr>\n",
       "    <tr>\n",
       "      <th>Flexural Modulus(MPa)</th>\n",
       "      <td>float64</td>\n",
       "      <td>877</td>\n",
       "      <td>679</td>\n",
       "      <td>73.28</td>\n",
       "      <td>12058.86</td>\n",
       "      <td>28412.67</td>\n",
       "      <td>0.62</td>\n",
       "      <td>2483.06</td>\n",
       "      <td>3000.00</td>\n",
       "      <td>3990.00</td>\n",
       "      <td>190990.00</td>\n",
       "    </tr>\n",
       "    <tr>\n",
       "      <th>Impact Strength(kJ/m2)</th>\n",
       "      <td>float64</td>\n",
       "      <td>1214</td>\n",
       "      <td>767</td>\n",
       "      <td>63.01</td>\n",
       "      <td>38.72</td>\n",
       "      <td>74.21</td>\n",
       "      <td>0.00</td>\n",
       "      <td>9.25</td>\n",
       "      <td>17.00</td>\n",
       "      <td>33.50</td>\n",
       "      <td>400.00</td>\n",
       "    </tr>\n",
       "    <tr>\n",
       "      <th>Young Modulus(MPa)</th>\n",
       "      <td>float64</td>\n",
       "      <td>1044</td>\n",
       "      <td>802</td>\n",
       "      <td>68.19</td>\n",
       "      <td>2941.05</td>\n",
       "      <td>7998.55</td>\n",
       "      <td>0.08</td>\n",
       "      <td>1011.25</td>\n",
       "      <td>2080.00</td>\n",
       "      <td>3010.00</td>\n",
       "      <td>217300.00</td>\n",
       "    </tr>\n",
       "    <tr>\n",
       "      <th>Tensile Strength(MPa)</th>\n",
       "      <td>float64</td>\n",
       "      <td>2602</td>\n",
       "      <td>1647</td>\n",
       "      <td>20.72</td>\n",
       "      <td>116.02</td>\n",
       "      <td>330.50</td>\n",
       "      <td>0.13</td>\n",
       "      <td>42.30</td>\n",
       "      <td>60.10</td>\n",
       "      <td>76.68</td>\n",
       "      <td>6000.00</td>\n",
       "    </tr>\n",
       "    <tr>\n",
       "      <th>Elongation at Break(%)</th>\n",
       "      <td>float64</td>\n",
       "      <td>1246</td>\n",
       "      <td>637</td>\n",
       "      <td>62.04</td>\n",
       "      <td>15.78</td>\n",
       "      <td>30.40</td>\n",
       "      <td>1.08</td>\n",
       "      <td>4.30</td>\n",
       "      <td>6.50</td>\n",
       "      <td>11.00</td>\n",
       "      <td>375.00</td>\n",
       "    </tr>\n",
       "  </tbody>\n",
       "</table>\n",
       "<p>150 rows × 11 columns</p>\n",
       "</div>"
      ],
      "text/plain": [
       "                       Data Type  Non-Null Count  Unique Values  Missing %  \\\n",
       "Epoxy/Curing Ratio       float64            3282            346       0.00   \n",
       "Carbon Fiber(%)          float64            3282             32       0.00   \n",
       "Filler Proportion(%)     float64            3282            168       0.00   \n",
       "Temperature(K)           float64            3282             56       0.00   \n",
       "Accelerator_2-mi         float64            3282              2       0.00   \n",
       "...                          ...             ...            ...        ...   \n",
       "Flexural Modulus(MPa)    float64             877            679      73.28   \n",
       "Impact Strength(kJ/m2)   float64            1214            767      63.01   \n",
       "Young Modulus(MPa)       float64            1044            802      68.19   \n",
       "Tensile Strength(MPa)    float64            2602           1647      20.72   \n",
       "Elongation at Break(%)   float64            1246            637      62.04   \n",
       "\n",
       "                            mean       std     min      25%      50%      75%  \\\n",
       "Epoxy/Curing Ratio          6.46     14.69    1.00     1.81     3.46     4.63   \n",
       "Carbon Fiber(%)            13.06     24.16    0.00     0.00     0.00     0.00   \n",
       "Filler Proportion(%)       20.17     23.30    0.00     4.00    10.00    30.00   \n",
       "Temperature(K)            366.67     35.16  298.15   353.15   363.15   393.15   \n",
       "Accelerator_2-mi            0.01      0.11    0.00     0.00     0.00     0.00   \n",
       "...                          ...       ...     ...      ...      ...      ...   \n",
       "Flexural Modulus(MPa)   12058.86  28412.67    0.62  2483.06  3000.00  3990.00   \n",
       "Impact Strength(kJ/m2)     38.72     74.21    0.00     9.25    17.00    33.50   \n",
       "Young Modulus(MPa)       2941.05   7998.55    0.08  1011.25  2080.00  3010.00   \n",
       "Tensile Strength(MPa)     116.02    330.50    0.13    42.30    60.10    76.68   \n",
       "Elongation at Break(%)     15.78     30.40    1.08     4.30     6.50    11.00   \n",
       "\n",
       "                              max  \n",
       "Epoxy/Curing Ratio         200.00  \n",
       "Carbon Fiber(%)             70.00  \n",
       "Filler Proportion(%)        85.00  \n",
       "Temperature(K)             473.15  \n",
       "Accelerator_2-mi             1.00  \n",
       "...                           ...  \n",
       "Flexural Modulus(MPa)   190990.00  \n",
       "Impact Strength(kJ/m2)     400.00  \n",
       "Young Modulus(MPa)      217300.00  \n",
       "Tensile Strength(MPa)     6000.00  \n",
       "Elongation at Break(%)     375.00  \n",
       "\n",
       "[150 rows x 11 columns]"
      ]
     },
     "execution_count": 4,
     "metadata": {},
     "output_type": "execute_result"
    }
   ],
   "source": [
    "summarize_dataframe(df_raw)"
   ]
  },
  {
   "cell_type": "markdown",
   "id": "28844daf",
   "metadata": {},
   "source": [
    "## 2. Clean dataset"
   ]
  },
  {
   "cell_type": "code",
   "execution_count": 5,
   "id": "9943f884",
   "metadata": {},
   "outputs": [
    {
     "name": "stderr",
     "output_type": "stream",
     "text": [
      "\n",
      "🐉 2025-10-10 10:38 [✅ \u001b[32mINFO\u001b[0m] - Saved dataset: 'Missing_Data_start.csv' with shape: (6, 3)\u001b[0m\n",
      "\n",
      "🐉 2025-10-10 10:38 [✅ \u001b[32mINFO\u001b[0m] - 🧹 Dropped 0 constant columns.\u001b[0m\n",
      "\n",
      "🐉 2025-10-10 10:38 [✅ \u001b[32mINFO\u001b[0m] - No rows found where all targets are missing.\u001b[0m\n",
      "\n",
      "🐉 2025-10-10 10:38 [✅ \u001b[32mINFO\u001b[0m] - No rows exceed the 70% missing feature data threshold.\u001b[0m\n",
      "\n",
      "🐉 2025-10-10 10:38 [✅ \u001b[32mINFO\u001b[0m] - No columns have more than 70% missing data.\u001b[0m\n",
      "\n",
      "🐉 2025-10-10 10:38 [✅ \u001b[32mINFO\u001b[0m] - Saved dataset: 'Missing_Data_final.csv' with shape: (6, 3)\u001b[0m\n"
     ]
    }
   ],
   "source": [
    "df_clean = drop_macro(df=df_raw,\n",
    "                      log_directory=PM[\"optimization engineering metrics\"],\n",
    "                      targets=OPTIMIZATION_TARGETS,\n",
    "                      skip_targets=True)"
   ]
  },
  {
   "cell_type": "markdown",
   "id": "b8836347",
   "metadata": {},
   "source": [
    "## 3. Split datasets"
   ]
  },
  {
   "cell_type": "code",
   "execution_count": 6,
   "id": "2aae8ff9",
   "metadata": {},
   "outputs": [
    {
     "name": "stdout",
     "output_type": "stream",
     "text": [
      "Original shape: (3282, 150)\n",
      "Features shape: (3282, 144)\n",
      "Targets shape: (3282, 6)\n"
     ]
    }
   ],
   "source": [
    "df_features, df_targets = split_features_targets(df=df_clean, targets=OPTIMIZATION_TARGETS)"
   ]
  },
  {
   "cell_type": "code",
   "execution_count": 7,
   "id": "a4e367af",
   "metadata": {},
   "outputs": [
    {
     "name": "stdout",
     "output_type": "stream",
     "text": [
      "Continuous columns shape: (3282, 4)\n",
      "Binary columns shape: (3282, 140)\n"
     ]
    }
   ],
   "source": [
    "df_continuous, df_binary = split_continuous_binary(df=df_features)"
   ]
  },
  {
   "cell_type": "markdown",
   "id": "a6754e50",
   "metadata": {},
   "source": [
    "### 3.1 Save feature columns"
   ]
  },
  {
   "cell_type": "code",
   "execution_count": 8,
   "id": "c9773dda",
   "metadata": {},
   "outputs": [
    {
     "name": "stderr",
     "output_type": "stream",
     "text": [
      "\n",
      "🐉 2025-10-10 10:38 [✅ \u001b[32mINFO\u001b[0m] - Object of type '<class 'list'>' saved to '/home/karl/Epoxy_Design/data/Optimization Engineering/CONTINUOUS_COLUMNS_list.joblib'\u001b[0m\n"
     ]
    }
   ],
   "source": [
    "serialize_object(obj=df_continuous.columns.to_list(), save_dir=PM[\"optimization continuous columns\"].parent, filename=PM[\"optimization continuous columns\"].name)"
   ]
  },
  {
   "cell_type": "code",
   "execution_count": 9,
   "id": "12ecc654",
   "metadata": {},
   "outputs": [
    {
     "name": "stderr",
     "output_type": "stream",
     "text": [
      "\n",
      "🐉 2025-10-10 10:38 [✅ \u001b[32mINFO\u001b[0m] - Object of type '<class 'list'>' saved to '/home/karl/Epoxy_Design/data/Optimization Engineering/BINARY_COLUMNS_list.joblib'\u001b[0m\n"
     ]
    }
   ],
   "source": [
    "serialize_object(obj=df_binary.columns.to_list(), save_dir=PM[\"optimization binary columns\"].parent, filename=PM[\"optimization binary columns\"].name)"
   ]
  },
  {
   "cell_type": "markdown",
   "id": "7bdcfc4b",
   "metadata": {},
   "source": [
    "## 4. Plot correlation heatmaps"
   ]
  },
  {
   "cell_type": "code",
   "execution_count": null,
   "id": "af5c31d8",
   "metadata": {},
   "outputs": [],
   "source": [
    "plot_correlation_heatmap(df=df_continuous, save_dir=PM[\"optimization engineering metrics\"], plot_title=\"Continuous Features Correlation Heatmap\")"
   ]
  },
  {
   "cell_type": "code",
   "execution_count": null,
   "id": "1713476d",
   "metadata": {},
   "outputs": [],
   "source": [
    "plot_correlation_heatmap(df=df_binary, save_dir=PM[\"optimization engineering metrics\"], plot_title=\"Binary Features Correlation Heatmap\")"
   ]
  },
  {
   "cell_type": "markdown",
   "id": "adc55c43",
   "metadata": {},
   "source": [
    "## 5. Distribute and Save Datasets"
   ]
  },
  {
   "cell_type": "code",
   "execution_count": 10,
   "id": "cb9b332f",
   "metadata": {},
   "outputs": [
    {
     "name": "stderr",
     "output_type": "stream",
     "text": [
      "\n",
      "🐉 2025-10-10 10:38 [✅ \u001b[32mINFO\u001b[0m] - Merged DataFrame shape: (3282, 150)\u001b[0m\n"
     ]
    },
    {
     "name": "stdout",
     "output_type": "stream",
     "text": [
      "➡️ DataFrame 1 shape: (3282, 4)\n",
      "➡️ DataFrame 2 shape: (3282, 140)\n",
      "➡️ DataFrame 3 shape: (3282, 6)\n"
     ]
    }
   ],
   "source": [
    "# To make sure the column order is correct\n",
    "df_final = merge_dataframes(df_continuous, df_binary, df_targets, direction=\"horizontal\")"
   ]
  },
  {
   "cell_type": "code",
   "execution_count": 11,
   "id": "8cbbf283",
   "metadata": {},
   "outputs": [
    {
     "name": "stderr",
     "output_type": "stream",
     "text": [
      "\n",
      "🐉 2025-10-10 10:38 [✅ \u001b[32mINFO\u001b[0m] - Saved dataset: 'Flexural_StrengthMPa.csv' with shape: (1643, 145)\u001b[0m\n",
      "\n",
      "🐉 2025-10-10 10:38 [✅ \u001b[32mINFO\u001b[0m] - Saved dataset: 'Flexural_ModulusMPa.csv' with shape: (877, 145)\u001b[0m\n",
      "\n",
      "🐉 2025-10-10 10:38 [✅ \u001b[32mINFO\u001b[0m] - Saved dataset: 'Impact_StrengthkJm2.csv' with shape: (1214, 145)\u001b[0m\n",
      "\n",
      "🐉 2025-10-10 10:38 [✅ \u001b[32mINFO\u001b[0m] - Saved dataset: 'Young_ModulusMPa.csv' with shape: (1044, 145)\u001b[0m\n",
      "\n",
      "🐉 2025-10-10 10:38 [✅ \u001b[32mINFO\u001b[0m] - Saved dataset: 'Tensile_StrengthMPa.csv' with shape: (2602, 145)\u001b[0m\n",
      "\n",
      "🐉 2025-10-10 10:38 [✅ \u001b[32mINFO\u001b[0m] - Saved dataset: 'Elongation_at_Break.csv' with shape: (1246, 145)\u001b[0m\n"
     ]
    }
   ],
   "source": [
    "dataset_iterator = distribute_dataset_by_target(df_or_path=df_final, target_columns=OPTIMIZATION_TARGETS)\n",
    "\n",
    "for target_name, df_target in dataset_iterator:\n",
    "    save_dataframe(df=df_target, save_dir=PM[\"optimization engineering\"], filename=target_name)"
   ]
  }
 ],
 "metadata": {
  "kernelspec": {
   "display_name": "dragon-ml",
   "language": "python",
   "name": "python3"
  },
  "language_info": {
   "codemirror_mode": {
    "name": "ipython",
    "version": 3
   },
   "file_extension": ".py",
   "mimetype": "text/x-python",
   "name": "python",
   "nbconvert_exporter": "python",
   "pygments_lexer": "ipython3",
   "version": "3.12.11"
  }
 },
 "nbformat": 4,
 "nbformat_minor": 5
}
